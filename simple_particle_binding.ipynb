{
 "cells": [
  {
   "cell_type": "code",
   "execution_count": 1,
   "metadata": {},
   "outputs": [],
   "source": [
    "%matplotlib inline\n",
    "import numpy as np\n",
    "import matplotlib.pyplot as plt\n",
    "from scipy.optimize import fsolve\n",
    "from scipy.integrate import quad\n",
    "import itertools\n",
    "import copy\n",
    "from image_matrix_helper import compute_master_list, imshow_list, rgb_map, color_to_rgb, list_to_matrix\n",
    "import random\n",
    "import time\n",
    "\n",
    "nb_start = time.time()"
   ]
  },
  {
   "cell_type": "markdown",
   "metadata": {},
   "source": [
    "## Simulation for the Simple Particle Binding Model\n",
    "\n",
    "\n",
    "In this notebook, we simulate a thermal system of particles of various colors binding onto a grid. We have $R$ different types of particles and particle of type $j$ has $n_j$ copies in the system. Particles can exist both on and off the grid and particles of type $j$ have a binding affinity of $\\gamma_j$ to the grid. Here we want to use simulations of this system to affirm analytical calculations of the average number of bound particles.\n"
   ]
  },
  {
   "cell_type": "markdown",
   "metadata": {},
   "source": [
    "### Numerical representations of analytical work"
   ]
  },
  {
   "cell_type": "markdown",
   "metadata": {},
   "source": [
    "#### System Partition Function \n",
    "\n",
    "The partition function for this system is \n",
    "\n",
    "\\begin{equation}\n",
    "W_{\\boldsymbol{n}}(\\{\\gamma_i\\}) = \\frac{1}{2\\pi i}  \\oint \\frac{dz}{z} \\,e^{z}\\prod_{i=1}^{R}\\left(\\gamma_i + \\frac{1}{z}\\right)^{n_i},\n",
    "\\label{eq:Wdef0}\n",
    "\\end{equation}\n",
    "\n",
    "*It would be convenient to represent this result numerically and use it to compute the exact expression for $\\langle k \\rangle$, but Python's numerical complex integration abilities are limited.*"
   ]
  },
  {
   "cell_type": "code",
   "execution_count": 2,
   "metadata": {},
   "outputs": [],
   "source": [
    "# gamma function definition\n",
    "gamma_func = lambda E0, Ev, T: 4*np.sqrt(2)*np.exp(E0/T)*(Ev/T)**(3/2)"
   ]
  },
  {
   "cell_type": "code",
   "execution_count": 3,
   "metadata": {},
   "outputs": [],
   "source": [
    "## test values\n",
    "R = 50\n",
    "E0s = 4.15*np.ones(R)\n",
    "Evs = 1e-3*np.ones(R)\n",
    "Nelems = np.ones(R)\n",
    "T0 = 0.2"
   ]
  },
  {
   "cell_type": "markdown",
   "metadata": {},
   "source": [
    "#### Thermal limits of disorder\n",
    "\n",
    "At what temperature, will all the ligands in the be be attached to a receptor. $\\langle k \\rangle$ representing the number of ligands bound to receptors, at what temperature does the system settle into the macrostate  $\\langle \\ell_{\\text{tot}}\\rangle = N$?\"\n",
    "\n",
    "We found that this temperature $\\beta_c = 1/k_BT_c$ is defined implicitly by \n",
    "\n",
    "$$ 1 = \\sum_{j=1}^R n_j \\gamma_{j}^{-1} $$ "
   ]
  },
  {
   "cell_type": "code",
   "execution_count": 4,
   "metadata": {},
   "outputs": [
    {
     "data": {
      "text/plain": [
       "0.3749141536398384"
      ]
     },
     "execution_count": 4,
     "metadata": {},
     "output_type": "execute_result"
    }
   ],
   "source": [
    "# implicit thermal constraint\n",
    "\n",
    "def ligand_bind_constr(beta, E0s, Evs, Ns):\n",
    "    \n",
    "    gammas_ = gamma_func(E0s, Evs, beta**(-1))\n",
    "    \n",
    "    F =  1-np.sum(Ns*gammas_**(-1))\n",
    "    \n",
    "    return F\n",
    "\n",
    "# critical temperature\n",
    "kBTcrit = lambda E0s, Evs, Ns: 1.0/fsolve(ligand_bind_constr, x0 = 0.5, args = (E0s, Evs, Ns))[0]\n",
    "\n",
    "# Test function \n",
    "kBTcrit(E0s, Evs, Nelems)"
   ]
  },
  {
   "cell_type": "markdown",
   "metadata": {},
   "source": [
    "#### Equations of Large $N$ approximation \n",
    "\n",
    "The order parameter can be approximated as \n",
    "\\begin{align}\n",
    "\\langle k \\rangle & =   \\sum_{j=1}^R \\frac{n_j \\gamma_j \\bar{z}}{\\gamma_j \\bar{z} +1},\n",
    "\\end{align}\n",
    "where $\\bar{z}$ is defined from \n",
    "\\begin{equation}\n",
    "\\bar{z} = \\sum_{j=1}^{R} \\frac{n_j}{\\bar{z} \\gamma_j+1}.\n",
    "\\end{equation}"
   ]
  },
  {
   "cell_type": "markdown",
   "metadata": {},
   "source": [
    "#### Analytical Approximation"
   ]
  },
  {
   "cell_type": "code",
   "execution_count": 5,
   "metadata": {},
   "outputs": [],
   "source": [
    "# function that determines xbar\n",
    "def zbar_func(z, T, E0s, Evs, Ns):\n",
    "    \n",
    "    F = np.ones(2)\n",
    "    R = len(Ns)\n",
    "    \n",
    "    gammas_ = gamma_func(E0s, Evs, T)\n",
    "    \n",
    "    F = z- np.sum(Ns/(z*gammas_+1))\n",
    "                     \n",
    "    return F\n",
    "\n",
    "# function that determs k_avg for large N\n",
    "def avg_k_approx(T, E0s,  Evs, Ns):\n",
    "    \n",
    "    R = len(Ns)\n",
    "    zbar = fsolve(zbar_func, x0 = (110), args = (T, E0s, Evs, Ns))\n",
    "\n",
    "    gammas_ = gamma_func(E0s, Evs, T)\n",
    "    \n",
    "    k_js = Ns*zbar*gammas_/(zbar*gammas_+1)\n",
    "    \n",
    "    return np.sum(k_js)\n",
    "        "
   ]
  },
  {
   "cell_type": "markdown",
   "metadata": {},
   "source": [
    "#### Example analytical plot"
   ]
  },
  {
   "cell_type": "code",
   "execution_count": 6,
   "metadata": {},
   "outputs": [
    {
     "data": {
      "image/png": "[encoded data removed]",
      "text/plain": [
       "<Figure size 432x288 with 1 Axes>"
      ]
     },
     "metadata": {
      "needs_background": "light"
     },
     "output_type": "display_data"
    }
   ],
   "source": [
    "# parameters for the integral\n",
    "np.random.seed(42)\n",
    "\n",
    "# temperature vals\n",
    "Tvals = np.linspace(0.1, 3.0, 50)\n",
    "\n",
    "R = 50\n",
    "sigma_E = 1.5\n",
    "E0bar = 6.15\n",
    "E0s = np.random.randn(R)*sigma_E+E0bar\n",
    "Nelems = np.random.randint(1,10,R)\n",
    "Evs = np.ones(R)*0.001\n",
    "avg_k_approx_vals = [avg_k_approx(T, E0s, Evs, Nelems)/np.sum(Nelems) for T in Tvals]\n",
    "\n",
    "## plotting order parameters\n",
    "ax = plt.subplot(111)\n",
    "ax.plot(Tvals, avg_k_approx_vals, label = r\"$\\langle k \\rangle/N$\")\n",
    "ax.plot(Tvals, np.ones(len(Tvals)), 'k--')\n",
    "\n",
    "ax.set_ylabel(r'$\\langle k \\rangle$', fontsize = 18)\n",
    "ax.set_xlabel(r'$k_BT$', fontsize = 18, labelpad = 10.5)\n",
    "ax.grid(alpha = 0.5)\n",
    "ax.axvline(x = kBTcrit(E0s, Evs, Nelems), color = 'r', linestyle = '--')\n",
    "# Hide the right and top spines\n",
    "ax.spines['right'].set_visible(False)\n",
    "ax.spines['top'].set_visible(False)\n",
    "\n",
    "# Only show ticks on the left and bottom spines\n",
    "ax.yaxis.set_ticks_position('left')\n",
    "ax.xaxis.set_ticks_position('bottom')"
   ]
  },
  {
   "cell_type": "markdown",
   "metadata": {},
   "source": [
    "### Metropolis Hastings simulation code "
   ]
  },
  {
   "cell_type": "markdown",
   "metadata": {},
   "source": [
    "#### Microstate transitions"
   ]
  },
  {
   "cell_type": "code",
   "execution_count": 7,
   "metadata": {},
   "outputs": [],
   "source": [
    "## dissociation operator\n",
    "def trans_dissoc(free_objs, bound_objs):\n",
    "        \n",
    "        # indices of non-empty\n",
    "        indxs = [i for i, x in enumerate(bound_objs) if x != \"-\"]\n",
    "        \n",
    "        # random choice for bound object\n",
    "        random_indx = random.choice(indxs)\n",
    "\n",
    "        ## new state vector \n",
    "        free_objs_new = copy.deepcopy(free_objs)\n",
    "        bound_objs_new = copy.deepcopy(bound_objs)\n",
    "\n",
    "        # putting empty slot\n",
    "        bound_objs_new[random_indx] = '-'\n",
    "        # appending previously bound object to free objects\n",
    "        free_objs_new.append(bound_objs[random_indx])\n",
    "\n",
    "        return free_objs_new, bound_objs_new\n",
    "\n",
    "\n",
    "## association operator\n",
    "def trans_assoc(free_objs, bound_objs):\n",
    "    \n",
    "        # random element to associate\n",
    "        elem = random.choice(free_objs)\n",
    "\n",
    "        # indices of empty spaces\n",
    "        indxs = [i for i, x in enumerate(bound_objs) if x == \"-\"]  \n",
    "\n",
    "        # random choice for empty space\n",
    "        random_indx = random.choice(indxs)\n",
    "\n",
    "        ## new state vector \n",
    "        free_objs_new = copy.deepcopy(free_objs)\n",
    "        bound_objs_new = copy.deepcopy(bound_objs)    \n",
    "\n",
    "        ## state\n",
    "        free_objs_new.remove(elem)\n",
    "        bound_objs_new[random_indx] = elem      \n",
    "\n",
    "        return free_objs_new, bound_objs_new"
   ]
  },
  {
   "cell_type": "markdown",
   "metadata": {},
   "source": [
    "#### Logarithm of Botlzmann factor\n",
    "\n",
    "The logarithm of the Botlzmann factor for a microstate (i.e., the temperature normalized negative energy of the microstate) is defined as \n",
    "\n",
    "\\begin{equation}\n",
    "\\beta E(\\boldsymbol{k}) = \\sum_{i=1}^R k_i \\ln \\gamma_i.\n",
    "\\label{eq:sim_en}\n",
    "\\end{equation}"
   ]
  },
  {
   "cell_type": "code",
   "execution_count": 8,
   "metadata": {},
   "outputs": [],
   "source": [
    "def log_boltz(free_objs, bound_objs, mstr_vec,  gammas, name_key):\n",
    "    \n",
    "    elem_set = list(set(mstr_vec))\n",
    "    count_dict = dict()\n",
    "    for elem in elem_set:\n",
    "        count_dict[elem] = bound_objs.count(elem)\n",
    "\n",
    "    bind_log_factor = 0\n",
    "    for elem in elem_set:\n",
    "        key = name_key[elem]\n",
    "        bind_log_factor += count_dict[elem]*np.log(gammas[key])\n",
    "    \n",
    "    return bind_log_factor"
   ]
  },
  {
   "cell_type": "markdown",
   "metadata": {},
   "source": [
    "#### Checking logarithm of Boltzmann factor definition"
   ]
  },
  {
   "cell_type": "code",
   "execution_count": 9,
   "metadata": {},
   "outputs": [
    {
     "name": "stdout",
     "output_type": "stream",
     "text": [
      "Energy for original ordering: -1.8672738065543701\n",
      "Checking energy value: -1.86727380655437\n",
      "Number of bound elements: 5\n",
      "-----\n",
      "Energy after switching first and last values: -1.4312789044123664\n",
      "Checking energy value: -1.4312789044123664\n",
      "Number of bound elements: 4\n"
     ]
    }
   ],
   "source": [
    "# defining name key\n",
    "name_key0 = dict()\n",
    "key_list = ['A', 'B', 'C', 'D', 'E', 'F', 'G', 'H', 'I', 'J', ]\n",
    "for j in range(len(key_list)):\n",
    "    name_key0[key_list[j]] = j\n",
    "    \n",
    "# random energies    \n",
    "np.random.seed(2)\n",
    "q1 = np.random.rand(10)\n",
    "\n",
    "# sample master list\n",
    "orig_free = ['F', 'G', 'H', 'I', 'J']\n",
    "orig_bound = ['A', 'B', 'C', 'D', 'E', '-','-','-','-','-']\n",
    "sample_master = ['A', 'B', 'C', 'D', 'E', 'F', 'G', 'H', 'I', 'J']\n",
    "\n",
    "print('Energy for original ordering:', log_boltz(orig_free, orig_bound, sample_master, np.exp(-q1), name_key0))\n",
    "print('Checking energy value:', -np.sum([q1[k] for k in range(len(sample_master)) if sample_master[k] in orig_bound]))\n",
    "print('Number of bound elements:', np.sum([1 for elem in orig_bound if elem!='-']))\n",
    "print('-----')\n",
    "new_free, new_bound = trans_dissoc(orig_free, orig_bound)\n",
    "print('Energy after switching first and last values:', log_boltz(new_free, new_bound, sample_master, np.exp(-q1), name_key0))\n",
    "print('Checking energy value:', -np.sum([q1[k] for k in range(len(sample_master)) if sample_master[k] in new_bound]))\n",
    "print('Number of bound elements:',  np.sum([1 for elem in new_bound if elem!='-']))"
   ]
  },
  {
   "cell_type": "markdown",
   "metadata": {},
   "source": [
    "#### Metropolis Hastings algorithm"
   ]
  },
  {
   "cell_type": "code",
   "execution_count": 10,
   "metadata": {},
   "outputs": [],
   "source": [
    "### Metropolis Monte Carlo Algorithm \n",
    "\n",
    "## loads uniform random sampling \n",
    "runif = np.random.rand\n",
    "\n",
    "def met_assembly_grid(Niter, free_objs, bound_objs, mstr_vec, gammas, name_key):\n",
    "    '''\n",
    "    #################################################################\n",
    "    # function to sample using Metropolis \n",
    "    #  \n",
    "    # n_iter:  number of iterations\n",
    "    # initial_state: initial state for the start position for our chain\n",
    "    # gamma: energy cost for incorrect component\n",
    "    # temp: temperature \n",
    "    ##################################################################\n",
    "    '''\n",
    "    \n",
    "    # Initialize state values\n",
    "    free_objs_vals = [0]*(Niter+1)\n",
    "    bound_objs_vals = [0]*(Niter+1)\n",
    "    \n",
    "    # Set initial values\n",
    "    free_objs_vals[0] = free_objs[:]\n",
    "    bound_objs_vals[0] = bound_objs[:]\n",
    "        \n",
    "    # Initialize acceptance counts\n",
    "    # We can use this to tune our number of steps\n",
    "    accepted = 0\n",
    "    \n",
    "    for i in range(Niter):\n",
    "    \n",
    "        # get current monomer and dimer states\n",
    "        current_free_objs = copy.deepcopy(free_objs_vals[i])\n",
    "        current_bound_objs = copy.deepcopy(bound_objs_vals[i])\n",
    "        \n",
    "        N_free = len(current_free_objs)\n",
    "        N_bound = len(current_bound_objs)-len(current_free_objs)\n",
    "        \n",
    "        u_trans = runif()\n",
    "        \n",
    "        if u_trans < 1/2: #first type of transition; monomer association \n",
    "            \n",
    "            if N_free < 1:\n",
    "                \n",
    "                log_alpha = np.log(1e-15) \n",
    "            \n",
    "            else:\n",
    "                # proposed new monomer and dimer states\n",
    "                new_free_objs, new_bound_objs = trans_assoc(current_free_objs, current_bound_objs)\n",
    "\n",
    "                # transition elements\n",
    "                log_init = log_boltz(current_free_objs, current_bound_objs, mstr_vec, gammas, name_key)\n",
    "                log_final = log_boltz(new_free_objs, new_bound_objs, mstr_vec, gammas, name_key)\n",
    "\n",
    "                # testing weight\n",
    "                num = N_free*N_free\n",
    "                den = N_bound+1\n",
    "\n",
    "                # Log-acceptance rate\n",
    "                log_alpha = log_final-log_init+np.log(num/den) \n",
    "            \n",
    "        elif 1/2 <= u_trans : #second type of transition; bound monomer dissociation\n",
    "            \n",
    "            if N_bound <1:\n",
    "                \n",
    "                log_alpha = np.log(1e-15) \n",
    "                \n",
    "            else: \n",
    "                \n",
    "                # proposed new monomer and dimer states\n",
    "                new_free_objs, new_bound_objs = trans_dissoc(current_free_objs, current_bound_objs)\n",
    "\n",
    "                # transition elements\n",
    "                log_init = log_boltz(current_free_objs, current_bound_objs, mstr_vec,  gammas, name_key)\n",
    "                log_final = log_boltz(new_free_objs, new_bound_objs, mstr_vec, gammas, name_key)\n",
    "\n",
    "                # testing weight\n",
    "                num = N_bound \n",
    "                den = (N_free+1)*(N_free+1)              \n",
    "                \n",
    "                # Log-acceptance rate\n",
    "                log_alpha = log_final-log_init+np.log(num/den)\n",
    "            \n",
    "        # Sample a uniform random variate\n",
    "        u = runif()\n",
    "\n",
    "        # Test proposed value\n",
    "        if np.log(u) < log_alpha:\n",
    "            # Accept\n",
    "            free_objs_vals[i+1] = new_free_objs\n",
    "            bound_objs_vals[i+1] = new_bound_objs\n",
    "            \n",
    "            #log_current_prob = log_proposed_prob\n",
    "            accepted += 1\n",
    "        else:\n",
    "            # Stay put\n",
    "            free_objs_vals[i+1] = free_objs_vals[i]\n",
    "            bound_objs_vals[i+1] = bound_objs_vals[i]\n",
    "\n",
    "    # return our samples and the number of accepted steps\n",
    "    return free_objs_vals, bound_objs_vals, accepted"
   ]
  },
  {
   "cell_type": "markdown",
   "metadata": {},
   "source": [
    "#### Computing microstate average from simiulations"
   ]
  },
  {
   "cell_type": "code",
   "execution_count": 11,
   "metadata": {},
   "outputs": [],
   "source": [
    "def avg_k(bound_objs_vals, Nmc):\n",
    "    \n",
    "    \"\"\"\n",
    "    Microstate average of number of bound objects\n",
    "    We only consider microstates near the end of theh chain to ensure\n",
    "    that the system has equilibrated\n",
    "    \"\"\"\n",
    "    \n",
    "    length = int(Nmc/50)\n",
    "    \n",
    "    ls = [0]*length\n",
    "    ls = np.array(ls)\n",
    "    for k in range(length):\n",
    "        ls[k] = len(bound_objs_vals[Nmc-length+k]) - bound_objs_vals[Nmc-length+k].count('-')\n",
    "    \n",
    "    return(np.mean(ls))"
   ]
  },
  {
   "cell_type": "markdown",
   "metadata": {},
   "source": [
    "#### Image grid for completely correct configuration"
   ]
  },
  {
   "cell_type": "code",
   "execution_count": 12,
   "metadata": {},
   "outputs": [
    {
     "data": {
      "image/png": "[encoded data removed]",
      "text/plain": [
       "<Figure size 432x288 with 1 Axes>"
      ]
     },
     "metadata": {},
     "output_type": "display_data"
    }
   ],
   "source": [
    "# defining master_list\n",
    "master_list =compute_master_list()\n",
    "# testing plot\n",
    "imshow_list(master_list)\n",
    "# defining Nelems\n",
    "Nelems = np.zeros(8)\n",
    "key_list = list(rgb_map.keys())[:-1]\n",
    "name_key_ = dict()\n",
    "for j in range(len(key_list)):\n",
    "    name_key_[key_list[j]] = j\n",
    "    Nelems[j] = master_list.count(key_list[j])"
   ]
  },
  {
   "cell_type": "code",
   "execution_count": 13,
   "metadata": {},
   "outputs": [
    {
     "data": {
      "text/plain": [
       "array([ 9.,  9., 10.,  5.,  7.,  6.,  3., 51.])"
      ]
     },
     "execution_count": 13,
     "metadata": {},
     "output_type": "execute_result"
    }
   ],
   "source": [
    "# displaying copy-number counts of the various elements\n",
    "Nelems"
   ]
  },
  {
   "cell_type": "markdown",
   "metadata": {},
   "source": [
    "#### Simulating system"
   ]
  },
  {
   "cell_type": "code",
   "execution_count": 14,
   "metadata": {},
   "outputs": [
    {
     "name": "stdout",
     "output_type": "stream",
     "text": [
      "Temperature Run: 1 ; Current Time: 5.93 secs\n",
      "Temperature Run: 2 ; Current Time: 10.95 secs\n",
      "Temperature Run: 3 ; Current Time: 19.29 secs\n",
      "Temperature Run: 4 ; Current Time: 29.63 secs\n",
      "Temperature Run: 5 ; Current Time: 41.04 secs\n",
      "Temperature Run: 6 ; Current Time: 54.38 secs\n",
      "Temperature Run: 7 ; Current Time: 67.18 secs\n",
      "Temperature Run: 8 ; Current Time: 80.79 secs\n",
      "Temperature Run: 9 ; Current Time: 95.19 secs\n",
      "Temperature Run: 10 ; Current Time: 109.09 secs\n",
      "Temperature Run: 11 ; Current Time: 123.55 secs\n",
      "Temperature Run: 12 ; Current Time: 139.58 secs\n",
      "Temperature Run: 13 ; Current Time: 154.84 secs\n",
      "Temperature Run: 14 ; Current Time: 169.51 secs\n",
      "Temperature Run: 15 ; Current Time: 184.19 secs\n",
      "Total Simulation Run Time: 184.18926906585693 secs\n"
     ]
    }
   ],
   "source": [
    "## Generate lf for each temperature from .03 to 2.0 in npoints steps\n",
    "\n",
    "t0 = time.time()\n",
    "\n",
    "# number of steps for MC algortihm\n",
    "Nmc = 10000\n",
    "    \n",
    "# binding energy parameters\n",
    "R = 8\n",
    "E0_bar, sigma_E = 6.0, 2.0\n",
    "E0s = np.random.randn(R)*sigma_E+E0_bar\n",
    "Evs = np.ones(R)*0.001\n",
    "\n",
    "# initial monomer and dimer states; \n",
    "# system in microstate of all correct dimers\n",
    "random.seed(0)\n",
    "free_objs_0 = []\n",
    "bound_objs_0 = random.sample(master_list, len(master_list))\n",
    "mstr_vec = copy.deepcopy(master_list)\n",
    "\n",
    "# temperature limits\n",
    "Tmin = .05\n",
    "Tmax = 3.0\n",
    "\n",
    "npoints = 15 #number of temperature values\n",
    "navg = 5 # number of times we run simulation at each temperature; 50 in paper\n",
    "temp_vals = np.linspace(Tmin, Tmax, npoints).tolist()\n",
    "\n",
    "# list of dimer values \n",
    "sim_k_vals = [0]*npoints\n",
    "\n",
    "# accepted list \n",
    "accepted_list = [0]*npoints\n",
    "\n",
    "# saved list for plotting\n",
    "saved_list = dict()\n",
    "\n",
    "for k in range(npoints):\n",
    "    \n",
    "    fin_k_vals = [0]*navg\n",
    "    fin_accepted = [0]*navg\n",
    "    \n",
    "    for j in range(navg): \n",
    "        \n",
    "        # make copy of initial monomer and dimer states \n",
    "        free_objs_copy = copy.deepcopy(free_objs_0)\n",
    "        bound_objs_copy = copy.deepcopy(bound_objs_0)\n",
    "        \n",
    "        # defining helper functions\n",
    "        gammas_ = gamma_func(E0s, Evs, temp_vals[k])\n",
    "\n",
    "        # metroplois generator\n",
    "        free_list, bound_list, accepted = met_assembly_grid(Nmc, \n",
    "                                                            free_objs_copy,\n",
    "                                                            bound_objs_copy,\n",
    "                                                            mstr_vec,\n",
    "                                                            gammas_, \n",
    "                                                            name_key_) \n",
    "        \n",
    "        \n",
    "\n",
    "        \n",
    "        # averaging final states to compute observables\n",
    "        fin_k_vals[j] = avg_k(bound_list, Nmc)\n",
    "        fin_accepted[j] = accepted\n",
    "    \n",
    "    # saving every 5 temperatures\n",
    "    if (k+1)%5 ==0 or k ==0:\n",
    "        saved_list[k] = ['white' if x=='-' else x for x in bound_list[-1]]   \n",
    "    \n",
    "    # averaging over computed equilibrium averages\n",
    "    sim_k_vals[k] = np.mean(np.array(fin_k_vals))\n",
    "    accepted_list[k] = np.mean(np.array(fin_accepted))\n",
    "    \n",
    "    t_prelim = time.time()\n",
    "    print(\"Temperature Run:\",str(k+1),\"; Current Time:\", round(t_prelim-t0,2),\"secs\")\n",
    "    \n",
    "\n",
    "t1 = time.time()\n",
    "print(\"Total Simulation Run Time:\",t1-t0,\"secs\")"
   ]
  },
  {
   "cell_type": "markdown",
   "metadata": {},
   "source": [
    "#### Simulated image grid at various temperatures"
   ]
  },
  {
   "cell_type": "code",
   "execution_count": 15,
   "metadata": {},
   "outputs": [
    {
     "data": {
      "image/png": "[encoded data removed]",
      "text/plain": [
       "<Figure size 648x648 with 4 Axes>"
      ]
     },
     "metadata": {},
     "output_type": "display_data"
    }
   ],
   "source": [
    "# figure parameters\n",
    "rows, cols, idx = 2, 2, 0\n",
    "fig, axes = plt.subplots(nrows=rows, ncols=cols, figsize=(9,9))\n",
    "\n",
    "# list of keys for saved snapshots of image\n",
    "img_key_list = list(saved_list.keys())\n",
    "\n",
    "for i in range(rows):\n",
    "    for j in range(cols):\n",
    "        if idx < 4:\n",
    "            axes[i, j].imshow(color_to_rgb(list_to_matrix(saved_list[img_key_list[idx]])))\n",
    "            ax = plt.gca()\n",
    "            \n",
    "            # making ticks invisible\n",
    "            axes[i, j].set_xticks([])\n",
    "            axes[i, j].set_yticks([])\n",
    "\n",
    "            # Minor ticks\n",
    "            axes[i, j].set_xticks(np.arange(-0.5, 11, 1), minor=True)\n",
    "            axes[i, j].set_yticks(np.arange(-0.5, 10, 1), minor=True)\n",
    "            axes[i, j].tick_params(axis='y', colors='red')\n",
    "            \n",
    "            # labeling images\n",
    "            itimes = 'i'*(1+idx) if idx<3 else 'iv'\n",
    "            \n",
    "            # Gridlines based on minor ticks\n",
    "            axes[i, j].grid(which='minor', color='w', linestyle='-', linewidth=3)\n",
    "            axes[i, j].set_title(fr'({itimes})  $k_BT = {round(temp_vals[img_key_list[idx]],2)}$', fontsize = 18, y = -.2)\n",
    "\n",
    "            # making spines invisible\n",
    "            axes[i, j].spines['right'].set_visible(False)\n",
    "            axes[i, j].spines['top'].set_visible(False)\n",
    "            axes[i, j].spines['left'].set_visible(False)\n",
    "            axes[i, j].spines['bottom'].set_visible(False)   \n",
    "            \n",
    "            idx +=1\n",
    "    \n",
    "# plt.savefig('binding_grid_assembly_grid_plots.png', bbox_inches='tight', format = 'png')    \n",
    "plt.show()"
   ]
  },
  {
   "cell_type": "markdown",
   "metadata": {},
   "source": [
    "#### Comparing analytical and simulation results"
   ]
  },
  {
   "cell_type": "code",
   "execution_count": 16,
   "metadata": {},
   "outputs": [
    {
     "data": {
      "image/png": "[encoded data removed]",
      "text/plain": [
       "<Figure size 504x360 with 1 Axes>"
      ]
     },
     "metadata": {
      "needs_background": "light"
     },
     "output_type": "display_data"
    }
   ],
   "source": [
    "plt.figure(figsize = (7,5))\n",
    "ax = plt.subplot(111)\n",
    "\n",
    "# plot of simulation results\n",
    "plt.plot(temp_vals,np.array(sim_k_vals)/np.sum(Nelems), \n",
    "        label = f'Simulation',\n",
    "        markersize = 7.5,\n",
    "       marker = 'D',\n",
    "       linestyle = '')\n",
    "\n",
    "# plot of large N analytical results\n",
    "k_avg_approx_vals = [avg_k_approx(T, E0s, Evs, Nelems)/np.sum(Nelems) for T in Tvals]\n",
    "plt.plot(Tvals, k_avg_approx_vals, label = f'Large $N$',  markersize = 4.0, )\n",
    "\n",
    "# plot of critical temperature \n",
    "plt.axvline(x = kBTcrit(E0s, Evs, Nelems), color = 'k',  linestyle = '-.')   \n",
    "\n",
    "plt.legend(loc = 'best', fontsize = 12)\n",
    "# plot formatting\n",
    "ax.set_xlabel(r'$k_B T$', fontsize = 18)\n",
    "plt.xlim([-0.01,3.2])\n",
    "plt.ylim([0,1.1])\n",
    "plt.ylabel(r'$\\langle k \\rangle/N$', fontsize = 18, rotation =90)\n",
    "# plt.yaxis.set_label_coords(-0.1,.5)\n",
    "plt.grid(alpha = 0.45)\n",
    "\n",
    "# Hide the right and top spines\n",
    "ax.spines['right'].set_visible(False)\n",
    "ax.spines['top'].set_visible(False)\n",
    "\n",
    "# Only show ticks on the left and bottom spines\n",
    "ax.yaxis.set_ticks_position('left')\n",
    "ax.xaxis.set_ticks_position('bottom')\n",
    "\n",
    "# increase label size\n",
    "ax.tick_params(axis='both', which='major', labelsize=12)\n",
    "ax.tick_params(axis='both', which='minor', labelsize=12)\n",
    "\n",
    "ax.text(kBTcrit(E0s, Evs, Nelems)-.2, 0.25, r'$k_BT_{bind}$', color='black', fontsize = 15,\n",
    "        bbox=dict(facecolor='white', edgecolor='none', pad=5.0))\n",
    "\n",
    "for i in range(4):\n",
    "    ax.text(temp_vals[img_key_list[i]]+.05, sim_k_vals[img_key_list[i]]/np.sum(Nelems)+.05,'('+'i'*(1+i)+')' if i<3 else '(iv)', fontsize = 14 )\n",
    "\n",
    "# plt.savefig(f'simple_binding_model.png', bbox_inches='tight', format = 'png')        \n",
    "plt.show()"
   ]
  },
  {
   "cell_type": "code",
   "execution_count": 17,
   "metadata": {},
   "outputs": [
    {
     "name": "stdout",
     "output_type": "stream",
     "text": [
      "Total Notebook Runtime: 3.096 mins\n"
     ]
    }
   ],
   "source": [
    "print('Total Notebook Runtime: %.3f mins' % ((time.time()-nb_start)/60))"
   ]
  }
 ],
 "metadata": {
  "kernelspec": {
   "display_name": "Python 3",
   "language": "python",
   "name": "python3"
  },
  "language_info": {
   "codemirror_mode": {
    "name": "ipython",
    "version": 3
   },
   "file_extension": ".py",
   "mimetype": "text/x-python",
   "name": "python",
   "nbconvert_exporter": "python",
   "pygments_lexer": "ipython3",
   "version": "3.8.5"
  }
 },
 "nbformat": 4,
 "nbformat_minor": 4
}
