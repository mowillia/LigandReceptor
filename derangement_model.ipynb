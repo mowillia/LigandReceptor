{
 "cells": [
  {
   "cell_type": "code",
   "execution_count": 1,
   "metadata": {},
   "outputs": [],
   "source": [
    "%matplotlib inline\n",
    "import numpy as np\n",
    "import matplotlib.pyplot as plt\n",
    "from scipy.optimize import fsolve\n",
    "from scipy.integrate import quad\n",
    "from scipy.special import eval_laguerre\n",
    "import itertools\n",
    "import copy\n",
    "from image_matrix_helper import compute_master_list, imshow_list, rgb_map, color_to_rgb, list_to_matrix\n",
    "import random\n",
    "import time\n",
    "\n",
    "nb_start = time.time()"
   ]
  },
  {
   "cell_type": "markdown",
   "metadata": {},
   "source": [
    "## Simulation for the Derangement Model \n",
    "\n",
    "In this notebook, we simulate a thermal system of particles of various colors binding onto a grid. We have $R$ different types of particles and particle of type $j$ has $n_j$ copies in the system. For the derangement model, particles can only exist \\textit{on} thhe grid. Each particle type has a collection of \"correct\" locations on the grid. A particle of type $j$ attaches to this correct location with a Boltzmann factor of $\\delta_j$. Here we want to use simulations of this system to affirm analytical calculations of the average number of correctly bound particles as functions of temperature. "
   ]
  },
  {
   "cell_type": "markdown",
   "metadata": {},
   "source": [
    "### Numerical representations of analytical work"
   ]
  },
  {
   "cell_type": "markdown",
   "metadata": {},
   "source": [
    "#### System Partition Function \n",
    "\n",
    "The partition function for the system is \n",
    "\\begin{equation}\n",
    "Z_{\\boldsymbol{n}}(\\{\\beta\\Delta_k\\})  = \\int^{\\infty}_{0} dx\\, e^{-x} \\, \\prod_{k=1}^{R}\\left(e^{\\beta \\Delta_k}-1\\right)^{n_k}\\, L_{n_k} \\left( \\frac{x}{1-e^{\\beta\\Delta_k}} \\right).\n",
    "\\label{eq:znr}\n",
    "\\end{equation}"
   ]
  },
  {
   "cell_type": "code",
   "execution_count": 2,
   "metadata": {},
   "outputs": [],
   "source": [
    "# delta function definition\n",
    "delta_func = lambda Del, T: np.exp(Del/T)"
   ]
  },
  {
   "cell_type": "code",
   "execution_count": 3,
   "metadata": {},
   "outputs": [],
   "source": [
    "# parameters for the model going forward\n",
    "np.random.seed(42)\n",
    "Dels0 = np.random.randn(10)+2 # randomly generated delta from normal distribution\n",
    "Nelems0 = np.random.randint(1,10,10) # randomly generated integers "
   ]
  },
  {
   "cell_type": "code",
   "execution_count": 4,
   "metadata": {},
   "outputs": [
    {
     "data": {
      "text/plain": [
       "0.03200812850398603"
      ]
     },
     "execution_count": 4,
     "metadata": {},
     "output_type": "execute_result"
    }
   ],
   "source": [
    "## integrand of partition function\n",
    "integrand = lambda x, deltas, ms: np.exp(-x)*np.prod([eval_laguerre(m, x/(1-delta))*(1-delta**(-1))**m for m, delta in zip(ms, deltas)])\n",
    "\n",
    "# test function \n",
    "integrand(.40, np.exp(Dels0), Nelems0)"
   ]
  },
  {
   "cell_type": "code",
   "execution_count": 5,
   "metadata": {},
   "outputs": [
    {
     "data": {
      "text/plain": [
       "189563.4375182251"
      ]
     },
     "execution_count": 5,
     "metadata": {},
     "output_type": "execute_result"
    }
   ],
   "source": [
    "## partition function for \n",
    "ZN_betalambda = lambda deltas, ms: quad(integrand, args =  (deltas, ms), a= 0,b =np.inf)[0]\n",
    "error_ZN  = lambda deltas, ms: quad(integrand, args =  (deltas, ms), a= 0,b =np.inf)[1] \n",
    "\n",
    "# test function\n",
    "ZN_betalambda(np.exp(Dels0), Nelems0)"
   ]
  },
  {
   "cell_type": "markdown",
   "metadata": {},
   "source": [
    "#### Calculating $\\langle m \\rangle$ exactly\n",
    "\n",
    "From this partitition function, we can calculate the average number of elements in their correct placement through the equation\n",
    "\n",
    "\\begin{equation}\n",
    "\\langle m \\rangle  = \\sum_{j=1}^{R} n_{j} e^{\\beta \\Delta_j} \\frac{Z_{\\boldsymbol{n}_{j}}(\\{\\beta\\Delta_k\\}) }{Z_{\\boldsymbol{n}}(\\{\\beta\\Delta_k\\})},\n",
    "\\label{eq:ord_zn}\n",
    "\\end{equation}\n",
    "\n",
    "where $\\boldsymbol{n}_{j}$ is $\\boldsymbol{n}$ with 1 subtracted from the $j$th component: $\\boldsymbol{n}_{j}= (n_1, \\ldots, n_{j}-1, \\ldots, n_R)$. "
   ]
  },
  {
   "cell_type": "code",
   "execution_count": 6,
   "metadata": {},
   "outputs": [
    {
     "name": "stdout",
     "output_type": "stream",
     "text": [
      "original n vector: [5 1 6 9 1 3 7 4 9 3]\n",
      "(n vector)_j value for j=3: [5 1 6 8 1 3 7 4 9 3]\n"
     ]
    }
   ],
   "source": [
    "# function to get n_j\n",
    "mj_vals = lambda j, ms: np.array([ms[k] if k != j else ms[k]-1 for k in range(len(ms))])\n",
    "\n",
    "num = 3\n",
    "# test function\n",
    "print('original n vector:', Nelems0)\n",
    "print(f'(n vector)_j value for j={num}:', mj_vals(num, Nelems0))"
   ]
  },
  {
   "cell_type": "code",
   "execution_count": 7,
   "metadata": {},
   "outputs": [],
   "source": [
    "# average of ell\n",
    "avg_m_exact = lambda T, Dels, ms: np.sum([ms[j]*ZN_betalambda(delta_func(Dels, T), mj_vals(j, ms))/ZN_betalambda(delta_func(Dels, T), ms) for j in range(len(ms))])"
   ]
  },
  {
   "cell_type": "code",
   "execution_count": 8,
   "metadata": {},
   "outputs": [
    {
     "data": {
      "text/plain": [
       "32.24972879913478"
      ]
     },
     "execution_count": 8,
     "metadata": {},
     "output_type": "execute_result"
    }
   ],
   "source": [
    "# testing evaluation\n",
    "avg_m_exact(1.0, Dels0, Nelems0)"
   ]
  },
  {
   "cell_type": "markdown",
   "metadata": {},
   "source": [
    "#### Thermal limits of disorder\n",
    "\n",
    "At what temperature, will all the particles in the system settle into their correct location? In other words, with $\\langle m \\rangle$ representing the number of elements in their correct location, at what temperature does the system settle into the microstate  $\\langle m \\rangle = N$?\"\n",
    "\n",
    "In the accompanying paper, we found that this temperature $\\beta_c = 1/k_BT_c$ is defined implicitly by \n",
    "\n",
    "$$ 1 = \\sum_{j=1}^R n_j e^{-\\beta_c\\Delta_j}$$ \n",
    "\n",
    "\n",
    "We also found the necessary (but not sufficient) condition for the system to settle into the correct macrostate is \n",
    "\n",
    "$$ k_BT_c \\leq \\frac{1}{\\ln N} \\sum_{j=1}^r \\frac{n_j}{N} \\Delta_j$$"
   ]
  },
  {
   "cell_type": "code",
   "execution_count": 9,
   "metadata": {},
   "outputs": [
    {
     "data": {
      "text/plain": [
       "0.561392354979486"
      ]
     },
     "execution_count": 9,
     "metadata": {},
     "output_type": "execute_result"
    }
   ],
   "source": [
    "# implicit thermal constraint\n",
    "\n",
    "def therm_constr(beta,Dels, Ns):\n",
    "    \n",
    "    F =  1-np.sum(Ns*np.exp(-Dels*beta))\n",
    "    \n",
    "    return F\n",
    "\n",
    "# critical temperature\n",
    "kBTcrit = lambda Dels, Ns: 1.0/fsolve(therm_constr, x0 = 0.5, args = (Dels, Ns))[0]\n",
    "\n",
    "\n",
    "# Test function \n",
    "kBTcrit(Dels0, Nelems0)"
   ]
  },
  {
   "cell_type": "code",
   "execution_count": 10,
   "metadata": {},
   "outputs": [
    {
     "data": {
      "text/plain": [
       "0.6809298387017404"
      ]
     },
     "execution_count": 10,
     "metadata": {},
     "output_type": "execute_result"
    }
   ],
   "source": [
    "# necessary condition for temperature\n",
    "kBTlimit = lambda Dels, Ns : 1.0/(np.sum(Ns)*np.log(np.sum(Ns)))*np.sum(Dels*Ns)\n",
    "\n",
    "# Test function \n",
    "kBTlimit(Dels0, Nelems0)"
   ]
  },
  {
   "cell_type": "code",
   "execution_count": 11,
   "metadata": {},
   "outputs": [
    {
     "data": {
      "text/plain": [
       "True"
      ]
     },
     "execution_count": 11,
     "metadata": {},
     "output_type": "execute_result"
    }
   ],
   "source": [
    "# checking inequality\n",
    "kBTcrit(Dels0, Nelems0) < kBTlimit(Dels0, Nelems0)"
   ]
  },
  {
   "cell_type": "markdown",
   "metadata": {},
   "source": [
    "#### Large Temperature Limit\n",
    "\n",
    "We found that in the limit of large temperature the total number of correctly ordered components has the behavior\n",
    "\n",
    "$$ \\lim_{T \\to \\infty} \\langle m\\rangle  = \\dfrac{ \\sum_{j=1}^R n_j^2}{ \\sum_{j=1}^R n_j}.$$"
   ]
  },
  {
   "cell_type": "code",
   "execution_count": 12,
   "metadata": {},
   "outputs": [],
   "source": [
    "## ell limit\n",
    "m_limit = lambda Ns : np.sum(Ns*Ns)/np.sum(Ns)"
   ]
  },
  {
   "cell_type": "markdown",
   "metadata": {},
   "source": [
    "#### Equations of Large $N$ approximation \n",
    "\n",
    "The order parameter for this system can be approximated as \n",
    "\\begin{align}\n",
    "\\langle m\\rangle & =   \\sum_{j=1}^R \\frac{n_j }{1- \\delta_j^{-1}} \\frac{\\displaystyle L_{n_j-1} \\left( \\bar{\\sigma}_{j}\\right)}{\\displaystyle  L_{n_j} \\left( \\bar{\\sigma}_{j} \\right)},\n",
    "\\label{eq:jtox}\n",
    "\\end{align}\n",
    "where $\\bar{x}$ is defined from \n",
    "\\begin{equation}\n",
    "N- \\bar{x} = \\sum_{j=1}^{R} n_j \\frac{\\displaystyle L_{n_j-1} \\left( \\bar{\\sigma}_{j}\\right)}{\\displaystyle  L_{n_j} \\left( \\bar{\\sigma}_{j} \\right)}\n",
    "\\label{eq:barx}\n",
    "\\end{equation}\n",
    "with $\\bar{\\sigma}_{j} \\equiv{\\bar{x}}/(1-\\delta_j); \\delta_j = e^{\\Delta_j/T}$ for notational simplicity  "
   ]
  },
  {
   "cell_type": "code",
   "execution_count": 13,
   "metadata": {},
   "outputs": [],
   "source": [
    "# function that determines xbar\n",
    "def xbar_func(x, T, Dels, Ns):\n",
    "    \n",
    "    R = len(Ns)\n",
    "    deltas_ = delta_func(Dels, T)\n",
    "    sigmas_ = x/(1-deltas_)\n",
    "    \n",
    "    RHS = np.sum([Ns[j]*eval_laguerre(Ns[j]-1, sigmas_[j])/eval_laguerre(Ns[j], sigmas_[j]) for j in range(R)])\n",
    "    \n",
    "    LHS = np.sum(Ns) -x\n",
    "    \n",
    "    return LHS-RHS\n",
    "\n",
    "# function that determs ellavge for large N\n",
    "def avg_m_approx(T, Dels, Ns):\n",
    "    \n",
    "    R = len(Ns)\n",
    "    xbar = fsolve(xbar_func, x0 = np.sum(Ns), args = (T, Dels, Ns))\n",
    "    deltas_ = delta_func(Dels, T)\n",
    "    sigma_bars = xbar/(1-deltas_)\n",
    "    \n",
    "    return np.sum([Ns[j]*deltas_[j]/(deltas_[j]-1)*eval_laguerre(Ns[j]-1, sigma_bars[j])/eval_laguerre(Ns[j], sigma_bars[j]) for j in range(R)] )"
   ]
  },
  {
   "cell_type": "markdown",
   "metadata": {},
   "source": [
    "#### Example analytical plot"
   ]
  },
  {
   "cell_type": "code",
   "execution_count": 14,
   "metadata": {},
   "outputs": [],
   "source": [
    "# temperature vals\n",
    "Tvals = np.linspace(0.1, 3.0, 50)\n",
    "\n",
    "# parameters for the integral\n",
    "np.random.seed(42)\n",
    "Dels0 = np.random.randn(10)+2\n",
    "n_vals = np.random.randint(1,10,10) # randomly generated integers \n",
    "\n",
    "# computed averages for each temperature\n",
    "avg_m_exact_vals = np.array([avg_m_exact(T, Dels0, Nelems0) for T in Tvals])\n",
    "avg_m_approx_vals = np.array([avg_m_approx(T, Dels0, Nelems0) for T in Tvals])"
   ]
  },
  {
   "cell_type": "code",
   "execution_count": 15,
   "metadata": {},
   "outputs": [
    {
     "data": {
      "image/png": "[encoded data removed]",
      "text/plain": [
       "<Figure size 432x288 with 1 Axes>"
      ]
     },
     "metadata": {
      "needs_background": "light"
     },
     "output_type": "display_data"
    }
   ],
   "source": [
    "## plotting order parameters\n",
    "ax = plt.subplot(111)\n",
    "ax.plot(Tvals, avg_m_exact_vals/np.sum(Nelems0), label = 'Exact')\n",
    "ax.plot(Tvals, avg_m_approx_vals/np.sum(Nelems0), label = 'Large N')\n",
    "ax.set_ylabel(r'$\\langle m \\rangle$', fontsize = 18)\n",
    "ax.set_xlabel(r'$k_BT$', fontsize = 18, labelpad = 10.5)\n",
    "ax.grid(alpha = 0.5)\n",
    "ax.axvline(x = kBTcrit(Dels0, Nelems0), color = 'k', linestyle = '--')\n",
    "# ax.set_ylim([0,50])\n",
    "# Hide the right and top spines\n",
    "ax.spines['right'].set_visible(False)\n",
    "ax.spines['top'].set_visible(False)\n",
    "\n",
    "# Only show ticks on the left and bottom spines\n",
    "ax.yaxis.set_ticks_position('left')\n",
    "ax.xaxis.set_ticks_position('bottom')"
   ]
  },
  {
   "cell_type": "markdown",
   "metadata": {},
   "source": [
    "### Metropolis Hastings simulation code "
   ]
  },
  {
   "cell_type": "markdown",
   "metadata": {},
   "source": [
    "#### Microstate transitions"
   ]
  },
  {
   "cell_type": "code",
   "execution_count": 16,
   "metadata": {},
   "outputs": [],
   "source": [
    "## permutation operator\n",
    "def perm(init_ls):\n",
    "    Ncomp = len(init_ls)\n",
    "    i1 = int(random.choice(range(Ncomp)))\n",
    "    i2 = int(random.choice(range(Ncomp)))\n",
    "\n",
    "    ## new omega vector \n",
    "    fin_ls = copy.deepcopy(init_ls)\n",
    "    fin_ls[i2] = init_ls[i1]\n",
    "    fin_ls[i1] = init_ls[i2]\n",
    "    \n",
    "    return(fin_ls)"
   ]
  },
  {
   "cell_type": "markdown",
   "metadata": {},
   "source": [
    "#### Function to count the number of correct elements in a bound vector"
   ]
  },
  {
   "cell_type": "code",
   "execution_count": 17,
   "metadata": {},
   "outputs": [],
   "source": [
    "## number of correctly placed elements\n",
    "def m_calc(vec, mstr_vec):\n",
    "    \n",
    "    num = 0\n",
    "    \n",
    "    for k in range(len(mstr_vec)):\n",
    "        if mstr_vec[k] == vec[k]:\n",
    "            num += 1\n",
    "    \n",
    "    return num"
   ]
  },
  {
   "cell_type": "markdown",
   "metadata": {},
   "source": [
    "#### Logarithm of Botlzmann factor\n",
    "\n",
    "The logarithm of the Botlzmann factor for a microstate (i.e., the temperature normalized negative energy of the microstate) is defined as \n",
    "\n",
    "\\begin{equation}\n",
    "\\beta E(\\boldsymbol{m}) = \\sum_{i=1}^R m_i \\ln \\delta_i.\n",
    "\\label{eq:sim_en}\n",
    "\\end{equation}"
   ]
  },
  {
   "cell_type": "code",
   "execution_count": 18,
   "metadata": {},
   "outputs": [],
   "source": [
    "# log of boltzmann factor\n",
    "def log_boltz(bound_objs, mstr_vec, deltas, name_key):\n",
    "    \n",
    "    corr_log_factor = 0\n",
    "    for j in range(len(bound_objs)):\n",
    "        if bound_objs[j] == mstr_vec[j]:\n",
    "            elem = bound_objs[j]\n",
    "            key = name_key[elem]\n",
    "            corr_log_factor+=np.log(deltas[key])        \n",
    "    \n",
    "    return corr_log_factor    "
   ]
  },
  {
   "cell_type": "markdown",
   "metadata": {},
   "source": [
    "#### Checking logarithm of Boltzmann factor definition"
   ]
  },
  {
   "cell_type": "code",
   "execution_count": 19,
   "metadata": {},
   "outputs": [
    {
     "name": "stdout",
     "output_type": "stream",
     "text": [
      "Energy for original ordering: -3.58801017672414\n",
      "Checking energy value: -3.58801017672414\n",
      "Number of correctly placed elements: 10\n",
      "-----\n",
      "Energy after switching first and last values: -3.58801017672414\n",
      "Checking energy value: -3.58801017672414\n",
      "Number of correctly placed elements: 10\n"
     ]
    }
   ],
   "source": [
    "# defining name key\n",
    "name_key0 = dict()\n",
    "key_list = ['A', 'B', 'C', 'D', 'E', 'F', 'G', 'H', 'I', 'J', ]\n",
    "for j in range(len(key_list)):\n",
    "    name_key0[key_list[j]] = j\n",
    "    \n",
    "# random energies    \n",
    "np.random.seed(2)\n",
    "q1 = np.random.rand(10)\n",
    "\n",
    "# sample master list\n",
    "sample_master = ['A', 'B', 'C', 'D', 'E', 'F', 'G', 'H', 'I', 'J', ]\n",
    "\n",
    "print('Energy for original ordering:', log_boltz(sample_master, sample_master, np.exp(-q1), name_key0))\n",
    "print('Checking energy value:', -np.sum(q1))\n",
    "print('Number of correctly placed elements:', m_calc(sample_master, sample_master))\n",
    "print('-----')\n",
    "changed_list = perm(sample_master)\n",
    "print('Energy after switching first and last values:', log_boltz(changed_list, sample_master, np.exp(-q1), name_key0))\n",
    "print('Checking energy value:', -np.sum(q1*(np.array(changed_list)==np.array(sample_master))))\n",
    "print('Number of correctly placed elements:', m_calc(changed_list, sample_master))"
   ]
  },
  {
   "cell_type": "markdown",
   "metadata": {},
   "source": [
    "#### Metropolis Hastings algorithm"
   ]
  },
  {
   "cell_type": "code",
   "execution_count": 20,
   "metadata": {},
   "outputs": [],
   "source": [
    "### Metropolis Monte Carlo Algorithm \n",
    "\n",
    "## loads uniform random sampling \n",
    "runif = np.random.rand\n",
    "\n",
    "def met_gen_derang(Niter, bound_objs, mstr_vec, deltas, name_key):\n",
    "    '''\n",
    "    #################################################################\n",
    "    # function to sample using Metropolis \n",
    "    #  \n",
    "    # n_iter:  number of iterations\n",
    "    # initial_state: initial state for the start position for our chain\n",
    "    # gamma: energy cost for incorrect component\n",
    "    # temp: temperature \n",
    "    ##################################################################\n",
    "    '''\n",
    "    # Initialize trace for state values\n",
    "    state_vals = [0]*(Niter+1)\n",
    "    \n",
    "    # Set initial values\n",
    "    state_vals[0] = bound_objs\n",
    "        \n",
    "    # Initialize acceptance counts\n",
    "    # We can use this to tune our step size\n",
    "    accepted = 0\n",
    "    \n",
    "    for i in range(Niter):\n",
    "    \n",
    "        # get current permutation\n",
    "        current_bound_objs = state_vals[i]\n",
    "        \n",
    "        # proposed new permutation; generated from random integer sampling\n",
    "        new_bound_objs = perm(current_bound_objs)\n",
    "        \n",
    "        #sets current log-probability\n",
    "        log_current_prob = log_boltz(current_bound_objs, mstr_vec, deltas, name_key)\n",
    "                \n",
    "        # Calculate posterior log-probability with proposed value\n",
    "        log_proposed_prob = log_boltz(new_bound_objs, mstr_vec, deltas, name_key)\n",
    "\n",
    "        # Log-acceptance rate\n",
    "        log_alpha = log_proposed_prob- log_current_prob\n",
    "\n",
    "        # Sample a uniform random variate\n",
    "        u = runif()\n",
    "\n",
    "        # Test proposed value\n",
    "        if np.log(u) <= log_alpha:\n",
    "            # Accept\n",
    "            state_vals[i+1] = new_bound_objs\n",
    "            log_current_prob = log_proposed_prob\n",
    "            accepted += 1\n",
    "        else:\n",
    "            # Stay put\n",
    "            state_vals[i+1] = state_vals[i]\n",
    "\n",
    "    # return our samples and the number of accepted steps\n",
    "    return state_vals, accepted"
   ]
  },
  {
   "cell_type": "markdown",
   "metadata": {},
   "source": [
    "#### Computing microstate average from simiulations"
   ]
  },
  {
   "cell_type": "code",
   "execution_count": 21,
   "metadata": {},
   "outputs": [],
   "source": [
    "def avg_m(state_vals, mstr_vec, n_mc):\n",
    "    \n",
    "    \"\"\"\n",
    "    Microstate average of number of correctly bound objects\n",
    "    We only consider microstates near the end of theh chain to ensure\n",
    "    that the system has equilibrated\n",
    "    \"\"\"     \n",
    "    \n",
    "    length = int(n_mc/50)\n",
    "    \n",
    "    ls = [0]*length\n",
    "    ls = np.array(ls)\n",
    "    for k in range(length):\n",
    "        ls[k] = m_calc(state_vals[n_mc-length+k], mstr_vec)\n",
    "    \n",
    "    \n",
    "    return(np.mean(ls))"
   ]
  },
  {
   "cell_type": "markdown",
   "metadata": {},
   "source": [
    "#### Image grid for completely correct configuration"
   ]
  },
  {
   "cell_type": "code",
   "execution_count": 22,
   "metadata": {},
   "outputs": [
    {
     "data": {
      "image/png": "[encoded data removed]",
      "text/plain": [
       "<Figure size 432x288 with 1 Axes>"
      ]
     },
     "metadata": {},
     "output_type": "display_data"
    }
   ],
   "source": [
    "# defining master_list\n",
    "master_list =compute_master_list()\n",
    "# testing plot\n",
    "imshow_list(master_list, title = 'Completely Correct Configuration');\n",
    "# defining Nelems\n",
    "Nelems = np.zeros(8)\n",
    "key_list = list(rgb_map.keys())[:-1]\n",
    "name_key_ = dict()\n",
    "for j in range(len(key_list)):\n",
    "    name_key_[key_list[j]] = j\n",
    "    Nelems[j] = master_list.count(key_list[j])"
   ]
  },
  {
   "cell_type": "code",
   "execution_count": 23,
   "metadata": {},
   "outputs": [
    {
     "data": {
      "text/plain": [
       "array([ 9.,  9., 10.,  5.,  7.,  6.,  3., 51.])"
      ]
     },
     "execution_count": 23,
     "metadata": {},
     "output_type": "execute_result"
    }
   ],
   "source": [
    "# displaying copy-number counts of the various elements\n",
    "Nelems"
   ]
  },
  {
   "cell_type": "markdown",
   "metadata": {},
   "source": [
    "#### Simulating system"
   ]
  },
  {
   "cell_type": "code",
   "execution_count": 24,
   "metadata": {},
   "outputs": [
    {
     "name": "stdout",
     "output_type": "stream",
     "text": [
      "Temperature Run: 1 ; Current Time: 49.38 secs\n",
      "Temperature Run: 2 ; Current Time: 96.82 secs\n",
      "Temperature Run: 3 ; Current Time: 144.21 secs\n",
      "Temperature Run: 4 ; Current Time: 187.47 secs\n",
      "Temperature Run: 5 ; Current Time: 226.98 secs\n",
      "Temperature Run: 6 ; Current Time: 263.06 secs\n",
      "Temperature Run: 7 ; Current Time: 299.26 secs\n",
      "Temperature Run: 8 ; Current Time: 335.83 secs\n",
      "Temperature Run: 9 ; Current Time: 372.2 secs\n",
      "Temperature Run: 10 ; Current Time: 405.93 secs\n",
      "Temperature Run: 11 ; Current Time: 441.39 secs\n",
      "Temperature Run: 12 ; Current Time: 473.89 secs\n",
      "Temperature Run: 13 ; Current Time: 503.44 secs\n",
      "Temperature Run: 14 ; Current Time: 533.46 secs\n",
      "Temperature Run: 15 ; Current Time: 560.87 secs\n",
      "Total simulation run time: 560.8682470321655ecs\n",
      "------\n",
      "\n"
     ]
    }
   ],
   "source": [
    "## Generate lf for each temperature from .03 to 2.0 in npoints steps\n",
    "t0 = time.time()\n",
    "\n",
    "# number of steps for MC algortihm\n",
    "Nmc = 20000\n",
    "\n",
    "# binding energy parameters\n",
    "R = 8\n",
    "Del_bar, sigma_D = 4.0, 2.0\n",
    "Dels = np.random.randn(R)*sigma_D+Del_bar\n",
    "    \n",
    "random.seed(0)\n",
    "\n",
    "# initial monomer and dimer states; \n",
    "# system in microstate of all correct dimers\n",
    "bound_objs_0 = random.sample(master_list, len(master_list))\n",
    "mstr_vec = copy.deepcopy(master_list)\n",
    "\n",
    "# temperature limits\n",
    "Tmin = .05\n",
    "Tmax = 3.05\n",
    "\n",
    "npoints = 15 #number of temperature values\n",
    "navg = 5 # number of times we run simulation at each temperature; 50 in paper\n",
    "temp_vals = np.linspace(Tmin, Tmax, npoints).tolist()\n",
    "\n",
    "# list of dimer values \n",
    "sim_m_vals = [0]*npoints\n",
    "\n",
    "# accepted list \n",
    "accepted_list = [0]*npoints\n",
    "\n",
    "# saved list for plotting\n",
    "saved_list = dict()\n",
    "\n",
    "for k in range(npoints):\n",
    "\n",
    "    final_m_vals = [0]*navg\n",
    "\n",
    "    for j in range(navg):\n",
    "        \n",
    "        # make copy of initial monomer and dimer states \n",
    "        bound_objs_copy = copy.deepcopy(bound_objs_0)        \n",
    "        \n",
    "        # defining helper functions\n",
    "        deltas_ = delta_func(Dels, temp_vals[k])        \n",
    "\n",
    "        # make copy of list \n",
    "        master_list_copy = copy.deepcopy(master_list)\n",
    "\n",
    "        # metroplois generator\n",
    "        bound_list, accepted = met_gen_derang(Nmc, bound_objs_copy, mstr_vec, deltas_, name_key_)\n",
    "\n",
    "        # calculate final j value\n",
    "        final_m_vals[j] = avg_m(bound_list, master_list, Nmc)\n",
    "\n",
    "    # saving averaged values        \n",
    "    sim_m_vals[k] = np.mean(np.array(final_m_vals))\n",
    "\n",
    "    if (k+1)%5 ==0 or k ==0:\n",
    "        saved_list[k] = ['white' if x=='-' else x for x in bound_list[-1]]          \n",
    "\n",
    "    time_prelim = time.time()\n",
    "    print(\"Temperature Run:\",str(k+1),\"; Current Time:\", round(time_prelim-t0,2),\"secs\")\n",
    "\n",
    "t1 = time.time()\n",
    "print(\"Total simulation run time: %secs\" % (t1-t0))\n",
    "print(\"------\")\n",
    "print()"
   ]
  },
  {
   "cell_type": "markdown",
   "metadata": {},
   "source": [
    "#### Simulated image grid at various temperatures"
   ]
  },
  {
   "cell_type": "code",
   "execution_count": 25,
   "metadata": {},
   "outputs": [
    {
     "data": {
      "image/png": "[encoded data removed]",
      "text/plain": [
       "<Figure size 648x648 with 4 Axes>"
      ]
     },
     "metadata": {},
     "output_type": "display_data"
    }
   ],
   "source": [
    "# figure parameters\n",
    "rows, cols, idx = 2, 2, 0\n",
    "fig, axes = plt.subplots(nrows=rows, ncols=cols, figsize=(9,9))\n",
    "\n",
    "# list of keys for saved snapshots of image\n",
    "img_key_list = list(saved_list.keys())\n",
    "\n",
    "for i in range(rows):\n",
    "    for j in range(cols):\n",
    "        if idx < 4:\n",
    "            axes[i, j].imshow(color_to_rgb(list_to_matrix(saved_list[img_key_list[idx]])))\n",
    "            ax = plt.gca()\n",
    "            \n",
    "            # making ticks invisible\n",
    "            axes[i, j].set_xticks([])\n",
    "            axes[i, j].set_yticks([])\n",
    "\n",
    "            # Minor ticks\n",
    "            axes[i, j].set_xticks(np.arange(-0.5, 11, 1), minor=True)\n",
    "            axes[i, j].set_yticks(np.arange(-0.5, 10, 1), minor=True)\n",
    "            axes[i, j].tick_params(axis='y', colors='red')\n",
    "            \n",
    "            # labeling images\n",
    "            itimes = 'i'*(1+idx) if idx<3 else 'iv'\n",
    "            \n",
    "            # Gridlines based on minor ticks\n",
    "            axes[i, j].grid(which='minor', color='w', linestyle='-', linewidth=3)\n",
    "            axes[i, j].set_title(fr'({itimes})  $k_BT = {round(temp_vals[img_key_list[idx]],2)}$', fontsize = 18, y = -.2)\n",
    "\n",
    "            # making spines invisible\n",
    "            axes[i, j].spines['right'].set_visible(False)\n",
    "            axes[i, j].spines['top'].set_visible(False)\n",
    "            axes[i, j].spines['left'].set_visible(False)\n",
    "            axes[i, j].spines['bottom'].set_visible(False)  \n",
    "            \n",
    "            idx +=1\n",
    "\n",
    "# plt.savefig('derang_grid_assembly_grid_plots.png', bbox_inches='tight', format = 'png')    \n",
    "plt.show()"
   ]
  },
  {
   "cell_type": "markdown",
   "metadata": {},
   "source": [
    "#### Comparing analytical and simulation results"
   ]
  },
  {
   "cell_type": "code",
   "execution_count": 26,
   "metadata": {},
   "outputs": [
    {
     "data": {
      "image/png": "[encoded data removed]",
      "text/plain": [
       "<Figure size 504x360 with 1 Axes>"
      ]
     },
     "metadata": {
      "needs_background": "light"
     },
     "output_type": "display_data"
    }
   ],
   "source": [
    "plt.figure(figsize = (7,5))\n",
    "ax = plt.subplot(111)\n",
    "\n",
    "# plot of simulation results\n",
    "plt.plot(temp_vals,sim_m_vals/np.sum(Nelems), \n",
    "        label = f'Simulation',\n",
    "        markersize = 7.5,\n",
    "       marker = 'D',\n",
    "       linestyle = '')\n",
    "\n",
    "# plot of exact analytical results \n",
    "m_exact_vals = [avg_m_exact(T, Dels, Nelems) for T in Tvals]\n",
    "plt.plot(Tvals, m_exact_vals/np.sum(Nelems),linestyle = '--', linewidth = 3.0, label = f'Exact')     \n",
    "\n",
    "# plot of large N analytical results\n",
    "m_largeN_vals = [avg_m_approx(T, Dels, Nelems) for T in Tvals]\n",
    "plt.plot(Tvals, m_largeN_vals/np.sum(Nelems),linestyle = '--', linewidth = 3.0, label = f'Large $N$')     \n",
    "\n",
    "# plot of critical temperature \n",
    "plt.axvline(x = kBTcrit(Dels, Nelems), color = 'k',  linestyle = '-.')   \n",
    "\n",
    "plt.legend(loc = (.5,0.05), fontsize = 12)\n",
    "# plot formatting\n",
    "ax.set_xlabel(r'$k_B T$', fontsize = 18)\n",
    "plt.xlim([-0.01,3.1])\n",
    "plt.ylim([0,1.1])\n",
    "plt.ylabel(r'$\\langle m \\rangle/N$', fontsize = 18)\n",
    "# plt.yaxis.set_label_coords(-0.1,.5)\n",
    "plt.grid(alpha = 0.45)\n",
    "\n",
    "\n",
    "# Hide the right and top spines\n",
    "ax.spines['right'].set_visible(False)\n",
    "ax.spines['top'].set_visible(False)\n",
    "\n",
    "# Only show ticks on the left and bottom spines\n",
    "ax.yaxis.set_ticks_position('left')\n",
    "ax.xaxis.set_ticks_position('bottom')\n",
    "\n",
    "# increase label size\n",
    "ax.tick_params(axis='both', which='major', labelsize=12)\n",
    "ax.tick_params(axis='both', which='minor', labelsize=12)\n",
    "\n",
    "ax.text(kBTcrit(Dels, Nelems)-.2, 0.25, r'$k_BT_{derang}$', color='black', fontsize = 15,\n",
    "        bbox=dict(facecolor='white', edgecolor='none', pad=5.0))\n",
    "\n",
    "for i in range(4):\n",
    "    ax.text(temp_vals[img_key_list[i]], sim_m_vals[img_key_list[i]]/np.sum(Nelems)+.05,'('+'i'*(1+i)+')' if i<3 else '(iv)', fontsize = 14 )\n",
    "\n",
    "# plt.savefig(f'derang_model.png', bbox_inches='tight', format = 'png')    \n",
    "plt.show()"
   ]
  },
  {
   "cell_type": "code",
   "execution_count": 27,
   "metadata": {},
   "outputs": [
    {
     "name": "stdout",
     "output_type": "stream",
     "text": [
      "Total Notebook Runtime: 9.734 mins\n"
     ]
    }
   ],
   "source": [
    "print('Total Notebook Runtime: %.3f mins' % ((time.time()-nb_start)/60))"
   ]
  }
 ],
 "metadata": {
  "kernelspec": {
   "display_name": "Python 3",
   "language": "python",
   "name": "python3"
  },
  "language_info": {
   "codemirror_mode": {
    "name": "ipython",
    "version": 3
   },
   "file_extension": ".py",
   "mimetype": "text/x-python",
   "name": "python",
   "nbconvert_exporter": "python",
   "pygments_lexer": "ipython3",
   "version": "3.8.5"
  }
 },
 "nbformat": 4,
 "nbformat_minor": 4
}
