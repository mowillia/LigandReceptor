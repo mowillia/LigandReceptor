{
 "cells": [
  {
   "cell_type": "code",
   "execution_count": 1,
   "metadata": {},
   "outputs": [],
   "source": [
    "%matplotlib inline\n",
    "import numpy as np\n",
    "import matplotlib.pyplot as plt\n",
    "from scipy.optimize import fsolve\n",
    "from scipy.integrate import quad\n",
    "from scipy.special import eval_laguerre\n",
    "import itertools\n",
    "import copy\n",
    "from image_matrix_helper import compute_master_list, imshow_list, rgb_map, color_to_rgb, list_to_matrix\n",
    "import random\n",
    "import time\n",
    "\n",
    "nb_start = time.time()"
   ]
  },
  {
   "cell_type": "markdown",
   "metadata": {},
   "source": [
    "## Exploring System Types\n",
    "\n",
    "In this notebook, we again simulate the system presented in `general_grid_assembly.ipynb`, but do so for three different parameter regimes that have qualitatively distinct thermal behaviors. \n",
    "\n",
    "We will use much of the code from that section so we copy it here without additional explanation"
   ]
  },
  {
   "cell_type": "markdown",
   "metadata": {},
   "source": [
    "### Numerical representations of analytical work"
   ]
  },
  {
   "cell_type": "markdown",
   "metadata": {},
   "source": [
    "#### Equations of Large $N$ approximation \n",
    "\n",
    "In the large $N$ limit, the order parameters for the system can be approximated as \n",
    "\n",
    "\\begin{equation}\n",
    "\\langle k \\rangle =   \\sum_{j=1}^r \\frac{n_j }{\\bar{z} \\gamma_j +1} \\left(\\bar{z} \\gamma_j +  \\frac{\\displaystyle L_{n_j-1} \\left( \\bar{\\phi}_{j}\\right)}{\\displaystyle  L_{n_j} \\left( \\bar{\\phi}_{j} \\right)}\\right) \\qquad \\langle m \\rangle  =   \\sum_{j=1}^r \\frac{n_j \\delta_j}{\\delta_j-1} \\frac{\\displaystyle L_{n_j-1} \\left( \\bar{\\phi}_{j}\\right)}{\\displaystyle  L_{n_j} \\left( \\bar{\\phi}_{j} \\right)},\n",
    "\\end{equation}\n",
    "where $\\bar{z}$ and $\\bar{x}$ are defined as \n",
    "\\begin{equation}\n",
    "\\bar{z} = \\sum_{j=1}^{R} \\frac{n_j}{\\bar{z} \\gamma_j +1} \\left(1- \\frac{\\displaystyle L_{n_j-1} \\left( \\bar{\\phi}_{j}\\right)}{\\displaystyle  L_{n_j} \\left( \\bar{\\phi}_{j} \\right)}\\right), \\qquad \\bar{x} = \\sum_{j=1}^{R} n_j\\left(1- \\frac{\\displaystyle L_{n_j-1} \\left( \\bar{\\phi}_{j}\\right)}{\\displaystyle  L_{n_j} \\left( \\bar{\\phi}_{j} \\right)}\\right)\n",
    "\\end{equation}\n",
    "with\n",
    "\\begin{equation}\n",
    "\\bar{\\phi}_{j}\\equiv \\frac{\\bar{x}}{1-\\delta_j}\\left(1+ \\frac{1}{\\bar{z} \\gamma_j}\\right).\n",
    "\\label{eq:phi_def}\n",
    "\\end{equation}\n",
    "and $L_n(x)$ the $n$th Laguerre polynomial. \n",
    "\n",
    "For these simulations we will take $$\\gamma_j = (\\beta E_V)^{3/2} e^{-\\beta E_j}, \\qquad \\delta_j = e^{\\beta \\Delta_j}$$ where $E_V$ is a volumetric Boltzmann factor associated with free particles (e.g., for a point-particle $E_V \\equiv h^2/2\\pi mV^{2/3}$), and $E_j$ is the binding energy for particles to the grid. We also take where $\\Delta_j$ is the binding energy advantage for particles binding to their correct locations in the grid. "
   ]
  },
  {
   "cell_type": "markdown",
   "metadata": {},
   "source": [
    "#### Parameter function definitions"
   ]
  },
  {
   "cell_type": "code",
   "execution_count": 2,
   "metadata": {},
   "outputs": [],
   "source": [
    "# helper function definitions\n",
    "gamma_func = lambda E0, Ev, T: 4*np.sqrt(2)*np.exp(E0/T)*(Ev/T)**(3/2)\n",
    "delta_func = lambda Del, T: np.exp(Del/T)\n",
    "phi_func = lambda x, z, gamma, delta: x*(1+ 1/(z*gamma))/(1-delta) "
   ]
  },
  {
   "cell_type": "markdown",
   "metadata": {},
   "source": [
    "#### Equilibrium equations"
   ]
  },
  {
   "cell_type": "code",
   "execution_count": 3,
   "metadata": {},
   "outputs": [],
   "source": [
    "def constr_func(X, T, E0s, Dels, Evs, Ns):\n",
    "    \n",
    "    \"\"\"\n",
    "    Equations constraint equations that determine zbar and xbar\n",
    "    \"\"\"\n",
    "    \n",
    "    x = X[0]\n",
    "    z = X[1]\n",
    "    \n",
    "    F = np.ones(2)\n",
    "    \n",
    "    R = len(Ns)\n",
    "    gammas_ = gamma_func(E0s,Evs, T)\n",
    "    deltas_ = delta_func(Dels, T)\n",
    "    phis_ = phi_func(x, z, gammas_, deltas_)\n",
    "    \n",
    "    F[0] = z- np.sum([Ns[j]/(z*gammas_[j]+1)*(1-eval_laguerre(Ns[j]-1, phis_[j])/eval_laguerre(Ns[j], phis_[j])) for j in range(R)])\n",
    "    F[1] = x- np.sum([Ns[j]*(1-eval_laguerre(Ns[j]-1, phis_[j])/eval_laguerre(Ns[j], phis_[j]) ) for j in range(R)])\n",
    "                     \n",
    "    return F\n",
    "    \n",
    "def m_avg(T, E0s, Dels, Evs, Ns):\n",
    "    \n",
    "    \"\"\"\n",
    "    Function that computes m_avg\n",
    "    \"\"\"    \n",
    "    \n",
    "    x, z =  fsolve(constr_func, x0 = (50,500), args = (T, E0s, Dels, Evs, Ns))\n",
    "    \n",
    "    R = len(Ns)\n",
    "    gammas_ = gamma_func(E0s,Evs, T)\n",
    "    deltas_ = delta_func(Dels, T)\n",
    "    phis_ = phi_func(x, z, gammas_, deltas_)\n",
    "    \n",
    "    return np.sum([Ns[j]*deltas_[j]/(deltas_[j]-1)*eval_laguerre(Ns[j]-1, phis_[j])/eval_laguerre(Ns[j], phis_[j]) for j in range(R)] )\n",
    "    \n",
    "def k_avg( T, E0s, Dels, Evs, Ns):\n",
    "    \n",
    "    \"\"\"\n",
    "    Function that computes k_avg\n",
    "    \"\"\"       \n",
    "    \n",
    "    x, z = fsolve(constr_func, x0 = (50,500), args = (T, E0s, Dels, Evs, Ns))\n",
    "\n",
    "    R = len(Ns)\n",
    "    gammas_ = gamma_func(E0s,Evs, T)\n",
    "    deltas_ = delta_func(Dels, T)\n",
    "    phis_ = phi_func(x, z, gammas_, deltas_)    \n",
    "    \n",
    "    return np.sum([Ns[j]/(z*gammas_[j]+1)*(z*gammas_[j] + eval_laguerre(Ns[j]-1, phis_[j])/eval_laguerre(Ns[j], phis_[j])) for j in range(R)])"
   ]
  },
  {
   "cell_type": "markdown",
   "metadata": {},
   "source": [
    "#### Important temperatures\n",
    "\n",
    "For characterizing the differences between search and combinatorics-limited systems there are three relevant temperatures:\n",
    "\n",
    "$$T_{\\text{bind}}:\\qquad 1=  \\sum_{j=1}^R n_j \\gamma_{j}(T)^{-1}\\delta_j(T)^{-1}$$\n",
    "\n",
    "$$ T_{\\text{derang}}: \\qquad 1=  \\sum_{j=1}^R n_j \\delta_j(T)^{-1}$$\n",
    "\n",
    "$$ T_{\\text{crit}}: \\qquad 1=  \\sum_{j=1}^R n_j \\delta_j(T)^{-1}(1+ \\gamma_{j}(T)^{-1})$$\n",
    "\n",
    "Generally, we say that a system is combinatorics-limited when \n",
    "\\begin{equation}\n",
    "\\text{Combinatorics-limited System:} \\qquad T_{\\text{comb}} \\simeq T_{\\text{crit}}\n",
    "\\end{equation}\n",
    "and a system is search-limited when\n",
    "\\begin{equation}\n",
    "\\text{Search-limited System:} \\qquad T_{\\text{search}} \\simeq T_{\\text{crit}}.\n",
    "\\end{equation}"
   ]
  },
  {
   "cell_type": "code",
   "execution_count": 4,
   "metadata": {},
   "outputs": [],
   "source": [
    "# Implicit equations defining temperature \n",
    "def binding_constr(T, E0s, Dels, Evs, Ns):\n",
    "    F =  1-np.sum(Ns*delta_func(Dels, T)**(-1)*gamma_func(E0s, Evs, T)**(-1))\n",
    "    return F\n",
    "\n",
    "def derang_constr(T,Dels, Ns):\n",
    "    F =  1-np.sum(Ns*np.exp(-Dels/T))\n",
    "    return F\n",
    "\n",
    "def crit_constr(T, E0s, Dels, Evs, Ns):\n",
    "    F =  1-np.sum(Ns*delta_func(Dels, T)**(-1)*(1+gamma_func(E0s, Evs, T)**(-1)))\n",
    "    return F \n",
    "\n",
    "# Computing temperatures from implicit equations\n",
    "kBT_bind = lambda E0s, Dels, Evs, Ns: fsolve(binding_constr, x0 = 100.5, args = (E0s, Dels, Evs, Ns))[0]\n",
    "kBT_derang = lambda Dels, Ns: fsolve(derang_constr, x0 = 100.5, args = (Dels, Ns))[0]\n",
    "kBT_crit = lambda E0s, Dels, Evs, Ns: fsolve(crit_constr, x0 = 100.5, args = (E0s, Dels, Evs, Ns))[0]\n"
   ]
  },
  {
   "cell_type": "markdown",
   "metadata": {},
   "source": [
    "### Metropolis Hastings simulation code "
   ]
  },
  {
   "cell_type": "markdown",
   "metadata": {},
   "source": [
    "#### Microstate transitions"
   ]
  },
  {
   "cell_type": "code",
   "execution_count": 5,
   "metadata": {},
   "outputs": [],
   "source": [
    "## dissociation operator\n",
    "def trans_dissoc(free_objs, bound_objs):\n",
    "        \n",
    "        # indices of non-empty\n",
    "        indxs = [i for i, x in enumerate(bound_objs) if x != \"-\"]\n",
    "        \n",
    "        # random choice for bound object\n",
    "        random_indx = random.choice(indxs)\n",
    "\n",
    "        ## new state vector \n",
    "        free_objs_new = copy.deepcopy(free_objs)\n",
    "        bound_objs_new = copy.deepcopy(bound_objs)\n",
    "\n",
    "        # putting empty slot\n",
    "        bound_objs_new[random_indx] = '-'\n",
    "        # appending previously bound object to free objects\n",
    "        free_objs_new.append(bound_objs[random_indx])\n",
    "\n",
    "        return free_objs_new, bound_objs_new\n",
    "\n",
    "\n",
    "## association operator\n",
    "def trans_assoc(free_objs, bound_objs):\n",
    "    \n",
    "        # random element to associate\n",
    "        elem = random.choice(free_objs)\n",
    "\n",
    "        # indices of empty spaces\n",
    "        indxs = [i for i, x in enumerate(bound_objs) if x == \"-\"]  \n",
    "\n",
    "        # random choice for empty space\n",
    "        random_indx = random.choice(indxs)\n",
    "\n",
    "        ## new state vector \n",
    "        free_objs_new = copy.deepcopy(free_objs)\n",
    "        bound_objs_new = copy.deepcopy(bound_objs)    \n",
    "\n",
    "        ## state\n",
    "        free_objs_new.remove(elem)\n",
    "        bound_objs_new[random_indx] = elem      \n",
    "\n",
    "        return free_objs_new, bound_objs_new\n",
    "\n",
    "## permutation operator\n",
    "def trans_perm(free_objs, bound_objs):\n",
    "    \n",
    "    Ncomp = len(bound_objs)\n",
    "    i1 = int(random.choice(range(Ncomp)))\n",
    "    i2 = int(random.choice(range(Ncomp)))\n",
    "\n",
    "    ## new omega vector \n",
    "    bound_objs_new = copy.deepcopy(bound_objs)\n",
    "    bound_objs_new[i2] = bound_objs[i1]\n",
    "    bound_objs_new[i1] = bound_objs[i2]\n",
    "    \n",
    "    return free_objs, bound_objs_new"
   ]
  },
  {
   "cell_type": "markdown",
   "metadata": {},
   "source": [
    "#### Logarithm of Botlzmann factor\n",
    "\n",
    "The logarithm of the Botlzmann factor for a microstate (i.e., the temperature normalized negative energy of the microstate) is defined as \n",
    "\n",
    "\\begin{equation}\n",
    "\\beta E(\\boldsymbol{k}, \\boldsymbol{m}) = \\sum_{i=1}^R(m_i \\ln \\delta_i + k_i \\ln \\gamma_i).\n",
    "\\label{eq:sim_en}\n",
    "\\end{equation}"
   ]
  },
  {
   "cell_type": "code",
   "execution_count": 6,
   "metadata": {},
   "outputs": [],
   "source": [
    "def log_boltz(free_objs, bound_objs, mstr_vec, deltas, gammas, name_key):\n",
    "    \n",
    "    elem_set = list(set(mstr_vec))\n",
    "    count_dict = dict()\n",
    "    for elem in elem_set:\n",
    "        count_dict[elem] = bound_objs.count(elem)\n",
    "\n",
    "    bind_log_factor = 0\n",
    "    for elem in elem_set:\n",
    "        key = name_key[elem]\n",
    "        bind_log_factor += count_dict[elem]*np.log(gammas[key])\n",
    "        \n",
    "        \n",
    "    corr_log_factor = 0\n",
    "    for j in range(len(bound_objs)):\n",
    "        if bound_objs[j] == mstr_vec[j]:\n",
    "            elem = bound_objs[j]\n",
    "            key = name_key[elem]\n",
    "            corr_log_factor+=np.log(deltas[key])        \n",
    "    \n",
    "    return bind_log_factor+corr_log_factor    "
   ]
  },
  {
   "cell_type": "markdown",
   "metadata": {},
   "source": [
    "#### Function to count the number of correctly bound particles"
   ]
  },
  {
   "cell_type": "code",
   "execution_count": 7,
   "metadata": {},
   "outputs": [],
   "source": [
    "def m_calc(bound_objs, mstr_vec):\n",
    "    \n",
    "    num = 0\n",
    "    for k in range(len(mstr_vec)):\n",
    "        if mstr_vec[k] == bound_objs[k]:\n",
    "            num += 1\n",
    "    return num"
   ]
  },
  {
   "cell_type": "markdown",
   "metadata": {},
   "source": [
    "#### Metropolis Hastings algorithm"
   ]
  },
  {
   "cell_type": "code",
   "execution_count": 8,
   "metadata": {},
   "outputs": [],
   "source": [
    "### Metropolis Monte Carlo Algorithm \n",
    "\n",
    "## loads uniform random sampling \n",
    "runif = np.random.rand\n",
    "\n",
    "def met_assembly_grid(Niter, free_objs, bound_objs, mstr_vec, deltas, gammas, name_key):\n",
    "    '''\n",
    "    #################################################################\n",
    "    # function to sample using Metropolis \n",
    "    #  \n",
    "    # n_iter:  number of iterations\n",
    "    # initial_state: initial state for the start position for our chain\n",
    "    # gamma: energy cost for incorrect component\n",
    "    # temp: temperature \n",
    "    ##################################################################\n",
    "    '''\n",
    "    \n",
    "    # Initialize state values\n",
    "    free_objs_vals = [0]*(Niter+1)\n",
    "    bound_objs_vals = [0]*(Niter+1)\n",
    "    \n",
    "    # Set initial values\n",
    "    free_objs_vals[0] = free_objs[:]\n",
    "    bound_objs_vals[0] = bound_objs[:]\n",
    "        \n",
    "    # Initialize acceptance counts\n",
    "    # We can use this to tune our number of steps\n",
    "    accepted = 0\n",
    "    \n",
    "    # debugging code\n",
    "    debug_assoc, debug_dissoc, debug_perm = 0, 0, 0\n",
    "    \n",
    "    for i in range(Niter):\n",
    "    \n",
    "        # get current monomer and dimer states\n",
    "        current_free_objs = copy.deepcopy(free_objs_vals[i])\n",
    "        current_bound_objs = copy.deepcopy(bound_objs_vals[i])\n",
    "        \n",
    "        N_free = len(current_free_objs)\n",
    "        N_bound = len(current_bound_objs)-len(current_free_objs)\n",
    "        \n",
    "        u_trans = runif()\n",
    "        \n",
    "        if u_trans < 1/3: #first type of transition; monomer association \n",
    "            \n",
    "            if N_free < 1:\n",
    "                \n",
    "                log_alpha = np.log(1e-15) \n",
    "            \n",
    "            else:\n",
    "                # proposed new monomer and dimer states\n",
    "                new_free_objs, new_bound_objs = trans_assoc(current_free_objs, current_bound_objs)\n",
    "\n",
    "                # transition elements\n",
    "                log_init = log_boltz(current_free_objs, current_bound_objs, mstr_vec, deltas, gammas, name_key)\n",
    "                log_final = log_boltz(new_free_objs, new_bound_objs, mstr_vec, deltas, gammas, name_key)\n",
    "\n",
    "                # weight\n",
    "                num = N_free*N_free\n",
    "                den = N_bound+1\n",
    "\n",
    "                # Log-acceptance rate\n",
    "                log_alpha = log_final-log_init+np.log(num/den) \n",
    "            \n",
    "        elif 1/3 <= u_trans < 2/3: #second type of transition; bound monomer dissociation\n",
    "            \n",
    "            if N_bound <1:\n",
    "                \n",
    "                log_alpha = np.log(1e-15) \n",
    "                \n",
    "            else: \n",
    "                \n",
    "                # proposed new monomer and dimer states\n",
    "                new_free_objs, new_bound_objs = trans_dissoc(current_free_objs, current_bound_objs)\n",
    "\n",
    "                # transition elements\n",
    "                log_init = log_boltz(current_free_objs, current_bound_objs, mstr_vec, deltas, gammas, name_key)\n",
    "                log_final = log_boltz(new_free_objs, new_bound_objs, mstr_vec, deltas, gammas, name_key)\n",
    "\n",
    "                # weight\n",
    "                num = N_bound \n",
    "                den = (N_free+1)*(N_free+1)   \n",
    "\n",
    "                # Log-acceptance rate\n",
    "                log_alpha = log_final-log_init+np.log(num/den) \n",
    "            \n",
    "        elif 2/3 <= u_trans: #third type of transition; switching bounded elements\n",
    "            \n",
    "            if N_bound <2:\n",
    "                \n",
    "                log_alpha = np.log(1e-15) \n",
    "            \n",
    "            else:\n",
    "                \n",
    "                # proposed new monomer and dimer states\n",
    "                new_free_objs, new_bound_objs = trans_perm(current_free_objs, current_bound_objs)\n",
    "\n",
    "                # transition elements\n",
    "                log_init = log_boltz(current_free_objs, current_bound_objs, mstr_vec, deltas, gammas, name_key)\n",
    "                log_final = log_boltz(new_free_objs, new_bound_objs, mstr_vec, deltas, gammas, name_key)\n",
    "\n",
    "                # Log-acceptance rate\n",
    "                log_alpha = log_final-log_init\n",
    "            \n",
    "        # Sample a uniform random variate\n",
    "        u = runif()\n",
    "\n",
    "        # Test proposed value\n",
    "        if np.log(u) < log_alpha:\n",
    "            # Accept\n",
    "            free_objs_vals[i+1] = new_free_objs\n",
    "            bound_objs_vals[i+1] = new_bound_objs\n",
    "            \n",
    "            #log_current_prob = log_proposed_prob\n",
    "            accepted += 1\n",
    "        else:\n",
    "            # Stay put\n",
    "            free_objs_vals[i+1] = free_objs_vals[i]\n",
    "            bound_objs_vals[i+1] = bound_objs_vals[i]\n",
    "\n",
    "    # return our samples and the number of accepted steps\n",
    "    return free_objs_vals, bound_objs_vals, accepted"
   ]
  },
  {
   "cell_type": "markdown",
   "metadata": {},
   "source": [
    "#### Computing microstate averages from simiulations"
   ]
  },
  {
   "cell_type": "code",
   "execution_count": 9,
   "metadata": {},
   "outputs": [],
   "source": [
    "def avg_k(bound_objs_vals, Nmc):\n",
    "    \n",
    "    \"\"\"\n",
    "    Microstate average of number of bound objects\n",
    "    We only consider microstates near the end of theh chain to ensure\n",
    "    that the system has equilibrated\n",
    "    \"\"\"\n",
    "    \n",
    "    length = int(Nmc/50)\n",
    "    \n",
    "    ls = [0]*length\n",
    "    ls = np.array(ls)\n",
    "    for k in range(length):\n",
    "        ls[k] = len(bound_objs_vals[Nmc-length+k]) - bound_objs_vals[Nmc-length+k].count('-')\n",
    "    \n",
    "    return(np.mean(ls))\n",
    "\n",
    "# average number of correctly bound objects\n",
    "def avg_m(bound_objs_vals, mstr_vec, Nmc):\n",
    "    \n",
    "    \"\"\"\n",
    "    Microstate average of number of correctly bound objects\n",
    "    We only consider microstates near the end of theh chain to ensure\n",
    "    that the system has equilibrated\n",
    "    \"\"\" \n",
    "    \n",
    "    length = int(Nmc/50)\n",
    "    \n",
    "    ls = [0]*length\n",
    "    ls = np.array(ls)\n",
    "    for k in range(length):\n",
    "        ls[k] =  np.sum([1 for j in range(len(mstr_vec)) if bound_objs_vals[Nmc-length+k][j]==mstr_vec[j]])\n",
    "    \n",
    "    return(np.mean(ls))"
   ]
  },
  {
   "cell_type": "markdown",
   "metadata": {},
   "source": [
    "#### Image grid for completely correct configuration"
   ]
  },
  {
   "cell_type": "code",
   "execution_count": 10,
   "metadata": {},
   "outputs": [
    {
     "data": {
      "image/png": "[encoded data removed]",
      "text/plain": [
       "<Figure size 432x288 with 1 Axes>"
      ]
     },
     "metadata": {},
     "output_type": "display_data"
    }
   ],
   "source": [
    "# defining master_list\n",
    "master_list =compute_master_list()\n",
    "# testing plot\n",
    "imshow_list(master_list, title = 'Completely Correct Configuration');\n",
    "# defining Nelems\n",
    "Nelems = np.zeros(8)\n",
    "key_list = list(rgb_map.keys())[:-1]\n",
    "name_key_ = dict()\n",
    "for j in range(len(key_list)):\n",
    "    name_key_[key_list[j]] = j\n",
    "    Nelems[j] = master_list.count(key_list[j])"
   ]
  },
  {
   "cell_type": "code",
   "execution_count": 11,
   "metadata": {
    "scrolled": true
   },
   "outputs": [
    {
     "data": {
      "text/plain": [
       "array([ 9.,  9., 10.,  5.,  7.,  6.,  3., 51.])"
      ]
     },
     "execution_count": 11,
     "metadata": {},
     "output_type": "execute_result"
    }
   ],
   "source": [
    "# displaying copy-number counts of the various elements\n",
    "Nelems"
   ]
  },
  {
   "cell_type": "markdown",
   "metadata": {},
   "source": [
    "### Search-limited, Indeterminate, and Combinatorics-limited system simulations"
   ]
  },
  {
   "cell_type": "code",
   "execution_count": 12,
   "metadata": {},
   "outputs": [],
   "source": [
    "# setting parameter dictionary\n",
    "param_dict = {'Search Limited': {'Del_bar':7.7501 , \n",
    "                                 'sigma_D':2.0, \n",
    "                                 'E0_bar':3.0, \n",
    "                                 'sigma_E':1.0},\n",
    "              'Combinatorics Limited':{'Del_bar': 4.75, \n",
    "                                 'sigma_D': 2.0, \n",
    "                                 'E0_bar': 16.0, \n",
    "                                 'sigma_E':3.0}, \n",
    "              'Indeterminate': {'Del_bar': 6.75, \n",
    "                                 'sigma_D': 2.0, \n",
    "                                 'E0_bar': 10.75, \n",
    "                                 'sigma_E': 3.0}, }"
   ]
  },
  {
   "cell_type": "code",
   "execution_count": 13,
   "metadata": {},
   "outputs": [
    {
     "name": "stdout",
     "output_type": "stream",
     "text": [
      "Temperature Run: 1 ; Current Time: 49.3 secs\n",
      "Temperature Run: 2 ; Current Time: 105.02 secs\n",
      "Temperature Run: 3 ; Current Time: 166.1 secs\n",
      "Temperature Run: 4 ; Current Time: 225.39 secs\n",
      "Temperature Run: 5 ; Current Time: 294.01 secs\n",
      "Temperature Run: 6 ; Current Time: 360.05 secs\n",
      "Temperature Run: 7 ; Current Time: 419.58 secs\n",
      "Temperature Run: 8 ; Current Time: 472.65 secs\n",
      "Temperature Run: 9 ; Current Time: 520.46 secs\n",
      "Temperature Run: 10 ; Current Time: 564.49 secs\n",
      "Temperature Run: 11 ; Current Time: 606.29 secs\n",
      "Temperature Run: 12 ; Current Time: 644.35 secs\n",
      "Temperature Run: 13 ; Current Time: 681.3 secs\n",
      "Temperature Run: 14 ; Current Time: 717.6 secs\n",
      "Temperature Run: 15 ; Current Time: 751.73 secs\n",
      "\n",
      "Total Simulation Run Time for Search Limited: 751.73 secs\n",
      "----------\n",
      "\n",
      "Temperature Run: 1 ; Current Time: 44.95 secs\n",
      "Temperature Run: 2 ; Current Time: 91.21 secs\n",
      "Temperature Run: 3 ; Current Time: 137.59 secs\n",
      "Temperature Run: 4 ; Current Time: 179.81 secs\n",
      "Temperature Run: 5 ; Current Time: 224.67 secs\n",
      "Temperature Run: 6 ; Current Time: 273.25 secs\n",
      "Temperature Run: 7 ; Current Time: 327.02 secs\n",
      "Temperature Run: 8 ; Current Time: 385.52 secs\n",
      "Temperature Run: 9 ; Current Time: 442.11 secs\n",
      "Temperature Run: 10 ; Current Time: 494.63 secs\n",
      "Temperature Run: 11 ; Current Time: 546.67 secs\n",
      "Temperature Run: 12 ; Current Time: 596.38 secs\n",
      "Temperature Run: 13 ; Current Time: 643.46 secs\n",
      "Temperature Run: 14 ; Current Time: 688.62 secs\n",
      "Temperature Run: 15 ; Current Time: 731.06 secs\n",
      "\n",
      "Total Simulation Run Time for Combinatorics Limited: 731.07 secs\n",
      "----------\n",
      "\n",
      "Temperature Run: 1 ; Current Time: 45.67 secs\n",
      "Temperature Run: 2 ; Current Time: 91.06 secs\n",
      "Temperature Run: 3 ; Current Time: 134.53 secs\n",
      "Temperature Run: 4 ; Current Time: 183.06 secs\n",
      "Temperature Run: 5 ; Current Time: 233.52 secs\n",
      "Temperature Run: 6 ; Current Time: 285.77 secs\n",
      "Temperature Run: 7 ; Current Time: 348.6 secs\n",
      "Temperature Run: 8 ; Current Time: 410.27 secs\n",
      "Temperature Run: 9 ; Current Time: 467.1 secs\n",
      "Temperature Run: 10 ; Current Time: 521.68 secs\n",
      "Temperature Run: 11 ; Current Time: 572.01 secs\n",
      "Temperature Run: 12 ; Current Time: 619.68 secs\n",
      "Temperature Run: 13 ; Current Time: 665.73 secs\n",
      "Temperature Run: 14 ; Current Time: 709.08 secs\n",
      "Temperature Run: 15 ; Current Time: 749.76 secs\n",
      "\n",
      "Total Simulation Run Time for Indeterminate: 749.76 secs\n",
      "----------\n",
      "\n",
      "------------------------------\n",
      "------------------------------\n",
      "Total Simulation Run Time for all: 2232.56 secs\n"
     ]
    }
   ],
   "source": [
    "## Generate lf for each temperature from .03 to 2.0 in npoints steps\n",
    "\n",
    "t0_start = time.time()\n",
    "\n",
    "# number of steps for MC algortihm\n",
    "Nmc = 30000\n",
    "    \n",
    "random.seed(0)\n",
    "\n",
    "# initial monomer and dimer states; \n",
    "# system in microstate of all correct dimers\n",
    "free_objs_0 = []\n",
    "bound_objs_0 = random.sample(master_list, len(master_list))\n",
    "mstr_vec = copy.deepcopy(master_list)\n",
    "\n",
    "# temperature limits\n",
    "Tmin = .05\n",
    "Tmax = 3.0\n",
    "\n",
    "npoints = 15 #number of temperature values\n",
    "navg = 5 # number of times we run simulation at each temperature; 50 in paper\n",
    "temp_vals = np.linspace(Tmin, Tmax, npoints).tolist()\n",
    "\n",
    "sim_k_vals_dict = {'Search Limited': [0]*npoints,\n",
    "              'Combinatorics Limited':[0]*npoints, \n",
    "              'Indeterminate':[0]*npoints }\n",
    "\n",
    "sim_m_vals_dict = {'Search Limited': [0]*npoints,\n",
    "              'Combinatorics Limited':[0]*npoints, \n",
    "              'Indeterminate':[0]*npoints }\n",
    "\n",
    "# list of dimer values \n",
    "sim_k_vals = [0]*npoints\n",
    "# list of correct dimer values\n",
    "sim_m_vals = [0]*npoints\n",
    "\n",
    "for type_ in list(sim_k_vals_dict.keys()):\n",
    "\n",
    "    t0 = time.time()      \n",
    "    \n",
    "    # getting parameter values\n",
    "    dict_vals = param_dict[type_]\n",
    "    \n",
    "    # drawing energy values\n",
    "    np.random.seed(24)\n",
    "    R=8\n",
    "    Del_bar, sigma_D = dict_vals['Del_bar'], dict_vals['sigma_D']\n",
    "    Dels = np.random.randn(R)*sigma_D+Del_bar\n",
    "    E0_bar, sigma_E = dict_vals['E0_bar'], dict_vals['sigma_E']\n",
    "    E0s = np.random.randn(R)*sigma_E+E0_bar \n",
    "    Evs = np.ones(R)*0.001\n",
    "    \n",
    "    for k in range(npoints):\n",
    "\n",
    "        fin_k_vals = [0]*navg\n",
    "        fin_m_vals = [0]*navg\n",
    "        fin_accepted = [0]*navg\n",
    "\n",
    "        for j in range(navg): \n",
    "\n",
    "            # make copy of initial monomer and dimer states \n",
    "            free_objs_copy = copy.deepcopy(free_objs_0)\n",
    "            bound_objs_copy = copy.deepcopy(bound_objs_0)\n",
    "\n",
    "            # defining helper functions\n",
    "            gammas_ = gamma_func(E0s, Evs, temp_vals[k])\n",
    "            deltas_ = delta_func(Dels, temp_vals[k])  \n",
    "\n",
    "            # metroplois generator\n",
    "            free_list, bound_list, accepted = met_assembly_grid(Nmc, \n",
    "                                                                free_objs_copy,\n",
    "                                                                bound_objs_copy,\n",
    "                                                                mstr_vec,\n",
    "                                                                deltas_,\n",
    "                                                                gammas_,\n",
    "                                                                name_key_) \n",
    "\n",
    "\n",
    "\n",
    "\n",
    "            # averaging final states to compute observables\n",
    "            fin_k_vals[j] = avg_k(bound_list, Nmc)\n",
    "            fin_m_vals[j] = avg_m(bound_list, mstr_vec, Nmc)\n",
    "\n",
    "        # averaging over computed equilibrium averages\n",
    "        sim_k_vals_dict[type_][k] = np.mean(np.array(fin_k_vals))\n",
    "        sim_m_vals_dict[type_][k] = np.mean(np.array(fin_m_vals))\n",
    "\n",
    "        t_prelim = time.time()\n",
    "        print(\"Temperature Run:\",str(k+1),\"; Current Time:\", round(t_prelim-t0,2),\"secs\")\n",
    "\n",
    "\n",
    "    t1 = time.time()\n",
    "    print(f\"\\nTotal Simulation Run Time for {type_}: {round(t1-t0,2)} secs\")\n",
    "    print(\"----------\\n\") \n",
    "    \n",
    "t1 = time.time()    \n",
    "print(\"------------------------------\\n------------------------------\")   \n",
    "print(f\"Total Simulation Run Time for all: {round(t1-t0_start,2)} secs\")    "
   ]
  },
  {
   "cell_type": "code",
   "execution_count": 14,
   "metadata": {
    "scrolled": false
   },
   "outputs": [
    {
     "name": "stderr",
     "output_type": "stream",
     "text": [
      "<ipython-input-2-a582446d2d66>:4: RuntimeWarning: divide by zero encountered in true_divide\n",
      "  phi_func = lambda x, z, gamma, delta: x*(1+ 1/(z*gamma))/(1-delta)\n",
      "<ipython-input-2-a582446d2d66>:4: RuntimeWarning: invalid value encountered in multiply\n",
      "  phi_func = lambda x, z, gamma, delta: x*(1+ 1/(z*gamma))/(1-delta)\n",
      "<ipython-input-2-a582446d2d66>:4: RuntimeWarning: overflow encountered in true_divide\n",
      "  phi_func = lambda x, z, gamma, delta: x*(1+ 1/(z*gamma))/(1-delta)\n",
      "/Users/mobolajiwilliams/opt/miniconda3/lib/python3.8/site-packages/scipy/optimize/minpack.py:175: RuntimeWarning: The iteration is not making good progress, as measured by the \n",
      "  improvement from the last ten iterations.\n",
      "  warnings.warn(msg, RuntimeWarning)\n"
     ]
    },
    {
     "name": "stdout",
     "output_type": "stream",
     "text": [
      "Search Limited\n"
     ]
    },
    {
     "data": {
      "image/png": "[encoded data removed]",
      "text/plain": [
       "<Figure size 576x432 with 1 Axes>"
      ]
     },
     "metadata": {
      "needs_background": "light"
     },
     "output_type": "display_data"
    },
    {
     "name": "stderr",
     "output_type": "stream",
     "text": [
      "<ipython-input-2-a582446d2d66>:4: RuntimeWarning: divide by zero encountered in true_divide\n",
      "  phi_func = lambda x, z, gamma, delta: x*(1+ 1/(z*gamma))/(1-delta)\n",
      "<ipython-input-2-a582446d2d66>:4: RuntimeWarning: invalid value encountered in multiply\n",
      "  phi_func = lambda x, z, gamma, delta: x*(1+ 1/(z*gamma))/(1-delta)\n",
      "/Users/mobolajiwilliams/opt/miniconda3/lib/python3.8/site-packages/scipy/optimize/minpack.py:175: RuntimeWarning: The iteration is not making good progress, as measured by the \n",
      "  improvement from the last ten iterations.\n",
      "  warnings.warn(msg, RuntimeWarning)\n",
      "<ipython-input-3-08aba1dbaf99>:17: RuntimeWarning: invalid value encountered in double_scalars\n",
      "  F[0] = z- np.sum([Ns[j]/(z*gammas_[j]+1)*(1-eval_laguerre(Ns[j]-1, phis_[j])/eval_laguerre(Ns[j], phis_[j])) for j in range(R)])\n",
      "<ipython-input-3-08aba1dbaf99>:18: RuntimeWarning: invalid value encountered in double_scalars\n",
      "  F[1] = x- np.sum([Ns[j]*(1-eval_laguerre(Ns[j]-1, phis_[j])/eval_laguerre(Ns[j], phis_[j]) ) for j in range(R)])\n",
      "<ipython-input-2-a582446d2d66>:4: RuntimeWarning: overflow encountered in true_divide\n",
      "  phi_func = lambda x, z, gamma, delta: x*(1+ 1/(z*gamma))/(1-delta)\n"
     ]
    },
    {
     "name": "stdout",
     "output_type": "stream",
     "text": [
      "Combinatorics Limited\n"
     ]
    },
    {
     "data": {
      "image/png": "[encoded data removed]",
      "text/plain": [
       "<Figure size 576x432 with 1 Axes>"
      ]
     },
     "metadata": {
      "needs_background": "light"
     },
     "output_type": "display_data"
    },
    {
     "name": "stderr",
     "output_type": "stream",
     "text": [
      "<ipython-input-2-a582446d2d66>:4: RuntimeWarning: divide by zero encountered in true_divide\n",
      "  phi_func = lambda x, z, gamma, delta: x*(1+ 1/(z*gamma))/(1-delta)\n",
      "<ipython-input-2-a582446d2d66>:4: RuntimeWarning: invalid value encountered in multiply\n",
      "  phi_func = lambda x, z, gamma, delta: x*(1+ 1/(z*gamma))/(1-delta)\n",
      "/Users/mobolajiwilliams/opt/miniconda3/lib/python3.8/site-packages/scipy/optimize/minpack.py:175: RuntimeWarning: The iteration is not making good progress, as measured by the \n",
      "  improvement from the last ten iterations.\n",
      "  warnings.warn(msg, RuntimeWarning)\n",
      "<ipython-input-3-08aba1dbaf99>:17: RuntimeWarning: invalid value encountered in double_scalars\n",
      "  F[0] = z- np.sum([Ns[j]/(z*gammas_[j]+1)*(1-eval_laguerre(Ns[j]-1, phis_[j])/eval_laguerre(Ns[j], phis_[j])) for j in range(R)])\n",
      "<ipython-input-3-08aba1dbaf99>:18: RuntimeWarning: invalid value encountered in double_scalars\n",
      "  F[1] = x- np.sum([Ns[j]*(1-eval_laguerre(Ns[j]-1, phis_[j])/eval_laguerre(Ns[j], phis_[j]) ) for j in range(R)])\n",
      "<ipython-input-2-a582446d2d66>:4: RuntimeWarning: overflow encountered in true_divide\n",
      "  phi_func = lambda x, z, gamma, delta: x*(1+ 1/(z*gamma))/(1-delta)\n"
     ]
    },
    {
     "name": "stdout",
     "output_type": "stream",
     "text": [
      "Indeterminate\n"
     ]
    },
    {
     "data": {
      "image/png": "[encoded data removed]",
      "text/plain": [
       "<Figure size 576x432 with 1 Axes>"
      ]
     },
     "metadata": {
      "needs_background": "light"
     },
     "output_type": "display_data"
    }
   ],
   "source": [
    "# temperature limits\n",
    "Tmin = .05\n",
    "Tmax = 3.0\n",
    "\n",
    "npoints = 15 #number of temperature values\n",
    "navg = 1 # number of times we run simulation at each temperature; 50 in paper\n",
    "temp_vals = np.linspace(Tmin, Tmax, npoints).tolist() # simulation temperature values\n",
    "Tvals = np.linspace(0.1, 3.0, 50) # analytic temperature values\n",
    "\n",
    "u = 0\n",
    "for type_ in list(sim_k_vals_dict.keys()):\n",
    "    \n",
    "    plt.figure(figsize = (8,6))\n",
    "    ax = plt.subplot(111)    \n",
    "\n",
    "    t0 = time.time()      \n",
    "    \n",
    "    # getting parameter values\n",
    "    dict_vals = param_dict[type_]\n",
    "    \n",
    "    # drawing energy values\n",
    "    np.random.seed(24)\n",
    "    R=8\n",
    "    Del_bar, sigma_D = dict_vals['Del_bar'], dict_vals['sigma_D']\n",
    "    Dels = np.random.randn(R)*sigma_D+Del_bar\n",
    "    E0_bar, sigma_E = dict_vals['E0_bar'], dict_vals['sigma_E']\n",
    "    E0s = np.random.randn(R)*sigma_E+E0_bar \n",
    "    Evs = np.ones(R)*0.001\n",
    "\n",
    "    # simulation results\n",
    "    plt.plot(temp_vals,np.array(sim_k_vals_dict[type_])/np.sum(Nelems), \n",
    "            label = r'Sim. $\\langle k \\rangle$/N',\n",
    "            markersize = 7.5,\n",
    "           marker = 'D',\n",
    "           linestyle = '')\n",
    "    plt.plot(temp_vals,np.array(sim_m_vals_dict[type_])/np.sum(Nelems), \n",
    "            label = r'Sim. $\\langle m \\rangle$/N',\n",
    "            markersize = 7.5,\n",
    "           marker = 's',\n",
    "           linestyle = '')\n",
    "\n",
    "    # large N analytical results\n",
    "    k_avg_approx_vals = [k_avg(T, E0s, Dels, Evs, Nelems)/np.sum(Nelems) for T in Tvals]\n",
    "    m_avg_approx_vals = [m_avg(T, E0s, Dels, Evs, Nelems)/np.sum(Nelems) for T in Tvals]\n",
    "    plt.plot(Tvals, k_avg_approx_vals, label = r'Large $N$ $\\langle k \\rangle$/N', linestyle= '--', linewidth = 3.0)\n",
    "    plt.plot(Tvals, m_avg_approx_vals, label = r'Large $N$ $\\langle m \\rangle$/N', linewidth = 2.0 )\n",
    "\n",
    "    ax.axvline(x = kBT_derang(Dels, Nelems), color = 'r', linestyle = '-.')\n",
    "    ax.axvline(x = kBT_bind( E0s, Dels, Evs, Nelems), color = 'g', linestyle = ':', linewidth = 4)\n",
    "    ax.axvline(x = kBT_crit( E0s, Dels, Evs, Nelems), color = 'k', linestyle = 'dashed', linewidth = 2)\n",
    "\n",
    "    if u == 0:\n",
    "        plt.legend(loc = 'best', fontsize = 13)\n",
    "        \n",
    "    # plot formatting\n",
    "    ax.set_xlabel(r'$k_B T$', fontsize = 18)\n",
    "    plt.xlim([-0.01,3.2])\n",
    "    plt.ylim([0,1.1])\n",
    "    plt.grid(alpha = 0.45)\n",
    "\n",
    "\n",
    "    # Hide the right and top spines\n",
    "    ax.spines['right'].set_visible(False)\n",
    "    ax.spines['top'].set_visible(False)\n",
    "\n",
    "    # Only show ticks on the left and bottom spines\n",
    "    ax.yaxis.set_ticks_position('left')\n",
    "    ax.xaxis.set_ticks_position('bottom')\n",
    "\n",
    "    # increase label size\n",
    "    ax.tick_params(axis='both', which='major', labelsize=14)\n",
    "    ax.tick_params(axis='both', which='minor', labelsize=14)\n",
    "\n",
    "    if u<2: \n",
    "        ax.text(kBT_derang(Dels, Nelems)-.2, 0.25, r'$k_BT_{comb}$', color='black', fontsize = 18,\n",
    "                bbox=dict(facecolor='white', edgecolor='none', pad=5.0))\n",
    "        ax.text(kBT_bind(E0s, Dels, Evs, Nelems)-.2, 0.25, r'$k_BT_{search}$', color='black', fontsize = 18,\n",
    "                bbox=dict(facecolor='white', edgecolor='none', pad=5.0))\n",
    "        ax.text(kBT_crit(E0s, Dels,Evs, Nelems)-.15, 0.65, r'$k_BT_{c}$', color='black', fontsize = 18,\n",
    "                bbox=dict(facecolor='white', edgecolor='none', pad=5.0))        \n",
    "\n",
    "    else:\n",
    "        ax.text(kBT_derang(Dels, Nelems)-.625, 0.25, r'$k_BT_{comb} \\simeq k_BT_{search}$', color='black', fontsize = 18,\n",
    "                bbox=dict(facecolor='white', edgecolor='none', pad=3.0))\n",
    "        ax.text(kBT_crit(E0s, Dels,Evs, Nelems)-.15, 0.65, r'$k_BT_{c}$', color='black', fontsize = 18,\n",
    "                bbox=dict(facecolor='white', edgecolor='none', pad=3.0))       \n",
    "    \n",
    "    \n",
    "    u+=1\n",
    "    \n",
    "#     type_name = type_.replace(' ', '_').lower()\n",
    "#     plt.savefig(f'general_grid_assembly_sim_anl_{type_name}.png', bbox_inches='tight', format = 'png')\n",
    "    \n",
    "    print(type_)\n",
    "    plt.show()"
   ]
  },
  {
   "cell_type": "code",
   "execution_count": 15,
   "metadata": {},
   "outputs": [
    {
     "name": "stdout",
     "output_type": "stream",
     "text": [
      "Total Notebook Runtime: 37.247 mins\n"
     ]
    }
   ],
   "source": [
    "print('Total Notebook Runtime: %.3f mins' % ((time.time()-nb_start)/60))"
   ]
  }
 ],
 "metadata": {
  "kernelspec": {
   "display_name": "Python 3",
   "language": "python",
   "name": "python3"
  },
  "language_info": {
   "codemirror_mode": {
    "name": "ipython",
    "version": 3
   },
   "file_extension": ".py",
   "mimetype": "text/x-python",
   "name": "python",
   "nbconvert_exporter": "python",
   "pygments_lexer": "ipython3",
   "version": "3.8.5"
  }
 },
 "nbformat": 4,
 "nbformat_minor": 4
}
